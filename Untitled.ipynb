{
 "cells": [
  {
   "cell_type": "markdown",
   "id": "356673de",
   "metadata": {},
   "source": [
    "## MARK-DOWN"
   ]
  },
  {
   "cell_type": "code",
   "execution_count": 4,
   "id": "ff763150",
   "metadata": {},
   "outputs": [
    {
     "name": "stdout",
     "output_type": "stream",
     "text": [
      "[1, 2]\n"
     ]
    }
   ],
   "source": [
    "arr = [1,2,3,4,5]\n",
    "print(arr[:len(arr)//2])"
   ]
  },
  {
   "cell_type": "code",
   "execution_count": 16,
   "id": "00c41caa",
   "metadata": {},
   "outputs": [
    {
     "data": {
      "text/plain": [
       "[1, 2, 3, 2, 5, 6]"
      ]
     },
     "execution_count": 16,
     "metadata": {},
     "output_type": "execute_result"
    }
   ],
   "source": [
    "a = [1,2,3,0,0,0]\n",
    "a = a[:3]\n",
    "b = [2,5,6]\n",
    "a+b"
   ]
  },
  {
   "cell_type": "code",
   "execution_count": 13,
   "id": "8bd04081",
   "metadata": {},
   "outputs": [
    {
     "data": {
      "text/plain": [
       "0"
      ]
     },
     "execution_count": 13,
     "metadata": {},
     "output_type": "execute_result"
    }
   ],
   "source": [
    "b = []\n",
    "len(b)"
   ]
  },
  {
   "cell_type": "code",
   "execution_count": 15,
   "id": "502ed2b8",
   "metadata": {},
   "outputs": [
    {
     "data": {
      "text/plain": [
       "[1, 2, 3, 4, 5, 6]"
      ]
     },
     "execution_count": 15,
     "metadata": {},
     "output_type": "execute_result"
    }
   ],
   "source": [
    "a = [1,2,3]\n",
    "b = [4,5,6]\n",
    "a = a+b\n",
    "a"
   ]
  },
  {
   "cell_type": "code",
   "execution_count": 1,
   "id": "ce0ae7aa",
   "metadata": {},
   "outputs": [
    {
     "data": {
      "text/plain": [
       "[1, 2, 2, 3, 5, 7]"
      ]
     },
     "execution_count": 1,
     "metadata": {},
     "output_type": "execute_result"
    }
   ],
   "source": [
    "class Solution:\n",
    "    def sort(self,arr):\n",
    "        if len(arr) <= 1:\n",
    "            return arr\n",
    "        else:\n",
    "            left_arr = arr[:len(arr)//2]\n",
    "            right_arr = arr[len(arr)//2:]\n",
    "        \n",
    "        self.sort(left_arr)\n",
    "        self.sort(right_arr)\n",
    "        i = 0\n",
    "        j = 0\n",
    "        k = 0\n",
    "        while i < len(left_arr) and j < len(right_arr):\n",
    "            if left_arr[i] < right_arr[j]:\n",
    "                arr[k] = left_arr[i]\n",
    "                i = i + 1\n",
    "            else:\n",
    "                arr[k] = right_arr[j]\n",
    "                j = j + 1\n",
    "            k = k + 1\n",
    "        while i < len(left_arr):\n",
    "            arr[k] = left_arr[i]\n",
    "            i = i + 1\n",
    "            k = k + 1\n",
    "        while j < len(right_arr):\n",
    "            arr[k] = right_arr[j]\n",
    "            j = j + 1\n",
    "            k = k + 1\n",
    "        return arr\n",
    "\n",
    "\n",
    "    def merge(self, nums1,nums2):\n",
    "\n",
    "        m = 3\n",
    "        n = 3\n",
    "        if m == 1 and n == 0 :\n",
    "            return nums1\n",
    "        if n == 1 and m == 0 :\n",
    "            return nums2\n",
    "        nums1 = nums1[:m]\n",
    "        \n",
    "        nums1 = nums1 + nums2\n",
    "        \n",
    "        return self.sort(nums1)\n",
    "\n",
    "nums1 = [2,3,5,0,0,0]\n",
    "nums2 = [1,2,7]\n",
    "c = Solution()\n",
    "c.merge(nums1, nums2)\n"
   ]
  },
  {
   "cell_type": "code",
   "execution_count": 5,
   "id": "d1762a83",
   "metadata": {},
   "outputs": [
    {
     "data": {
      "text/plain": [
       "[0, 1, 2, 4, 7, 8]"
      ]
     },
     "execution_count": 5,
     "metadata": {},
     "output_type": "execute_result"
    }
   ],
   "source": [
    "# [2,8,7,1,0,4]\n",
    "def sort(arr):\n",
    "    if len(arr) <= 1:\n",
    "        return arr\n",
    "    else:\n",
    "        mid = len(arr)//2\n",
    "        left = arr[:mid]\n",
    "        right = arr[mid:]\n",
    "    sort(left)\n",
    "    sort(right)\n",
    "    \n",
    "    i=j=k=0\n",
    "    while i < len(left) and j < len(right):\n",
    "        if left[i]<right[j]:\n",
    "            arr[k] = left[i]\n",
    "            i = i+1\n",
    "            \n",
    "        else: \n",
    "            arr[k] = right[j]\n",
    "            j = j+1\n",
    "        k = k + 1\n",
    "    while i < len(left):\n",
    "        arr[k] = left[i]\n",
    "        i = i +1\n",
    "        k = k + 1\n",
    "    while j < len(right):\n",
    "        arr[k] = right[j]\n",
    "        j = j + 1\n",
    "        k =  k +1\n",
    "    return arr\n",
    "arr = [2,8,7,1,0,4]\n",
    "sort(arr)"
   ]
  },
  {
   "cell_type": "code",
   "execution_count": 3,
   "id": "40d8e43a",
   "metadata": {},
   "outputs": [
    {
     "name": "stdout",
     "output_type": "stream",
     "text": [
      "[1, 2, 3, 2, 5, 6]\n"
     ]
    }
   ],
   "source": [
    "f1 = [1,2,3,0,0,0]\n",
    "f2 = [2,5,6]\n",
    "f1[:] = f1[:3]\n",
    "f1 = f1 + f2\n",
    "print(f1)"
   ]
  },
  {
   "cell_type": "code",
   "execution_count": 5,
   "id": "aa62da48",
   "metadata": {},
   "outputs": [
    {
     "data": {
      "text/plain": [
       "2"
      ]
     },
     "execution_count": 5,
     "metadata": {},
     "output_type": "execute_result"
    }
   ],
   "source": [
    "f1[3]"
   ]
  },
  {
   "cell_type": "markdown",
   "id": "b0226950",
   "metadata": {},
   "source": [
    "## LEETCODE 27 REMOVE ELEMENT"
   ]
  },
  {
   "cell_type": "code",
   "execution_count": 19,
   "id": "9f6aa6e9",
   "metadata": {},
   "outputs": [
    {
     "data": {
      "text/plain": [
       "5"
      ]
     },
     "execution_count": 19,
     "metadata": {},
     "output_type": "execute_result"
    }
   ],
   "source": [
    "def remove(nums, val):\n",
    "    j = 0\n",
    "    for i in nums:\n",
    "        if i != val:\n",
    "            nums[j] = i\n",
    "            j = j + 1\n",
    "    return j\n",
    "nums = [0,1,2,2,3,0,4,2]\n",
    "val = 2\n",
    "remove(nums, val)"
   ]
  },
  {
   "cell_type": "code",
   "execution_count": 9,
   "id": "d89533c9",
   "metadata": {},
   "outputs": [
    {
     "name": "stdout",
     "output_type": "stream",
     "text": [
      "8\n"
     ]
    }
   ],
   "source": [
    "print(len([0,1,2,2,3,0,4,2]))"
   ]
  },
  {
   "cell_type": "code",
   "execution_count": 27,
   "id": "6e1c9fac",
   "metadata": {},
   "outputs": [
    {
     "name": "stdout",
     "output_type": "stream",
     "text": [
      "(0, 0)\n",
      "(1, 1)\n",
      "(2, 2)\n",
      "(3, 3)\n"
     ]
    }
   ],
   "source": [
    "for i in enumerate([0,1,2,3]):\n",
    "    print(i)"
   ]
  },
  {
   "cell_type": "code",
   "execution_count": 25,
   "id": "a6e9f51e",
   "metadata": {},
   "outputs": [
    {
     "name": "stdout",
     "output_type": "stream",
     "text": [
      "0 A 1\n",
      "1 B 2\n",
      "2 C 3\n",
      "3 D 4\n"
     ]
    }
   ],
   "source": [
    "d = {'A': 1, 'B': 2, 'C': 3, 'D': 4}\n",
    "for i, (k,v) in enumerate(d.items()):\n",
    "    print(i,k,v)"
   ]
  },
  {
   "cell_type": "code",
   "execution_count": 26,
   "id": "81abf88c",
   "metadata": {},
   "outputs": [
    {
     "data": {
      "text/plain": [
       "dict_items([('A', 1), ('B', 2), ('C', 3), ('D', 4)])"
      ]
     },
     "execution_count": 26,
     "metadata": {},
     "output_type": "execute_result"
    }
   ],
   "source": [
    "d.items()"
   ]
  },
  {
   "cell_type": "code",
   "execution_count": 9,
   "id": "599fc061",
   "metadata": {},
   "outputs": [
    {
     "name": "stdout",
     "output_type": "stream",
     "text": [
      "0\n",
      "1\n",
      "2\n",
      "4\n",
      "5\n",
      "6\n",
      "7\n",
      "8\n"
     ]
    }
   ],
   "source": [
    "for i in range(9):\n",
    "    if i == 3:\n",
    "        continue\n",
    "    print(i)"
   ]
  },
  {
   "cell_type": "code",
   "execution_count": null,
   "id": "e1a937ee",
   "metadata": {},
   "outputs": [],
   "source": []
  },
  {
   "cell_type": "code",
   "execution_count": 33,
   "id": "efd97caa",
   "metadata": {},
   "outputs": [
    {
     "data": {
      "text/plain": [
       "5"
      ]
     },
     "execution_count": 33,
     "metadata": {},
     "output_type": "execute_result"
    }
   ],
   "source": [
    "def remove(nums):\n",
    "    k = 1\n",
    "    i = 0\n",
    "    j = 1\n",
    "    while j < len(nums) and i < j:\n",
    "        if nums[i] != nums[j]:\n",
    "            k= k+1\n",
    "            nums[k-1]=nums[j]\n",
    "        i = i + 1\n",
    "        j = j + 1\n",
    "    return k\n",
    "nums = [0,0,1,1,1,2,2,3,3,4]\n",
    "remove(nums)"
   ]
  },
  {
   "cell_type": "code",
   "execution_count": 1,
   "id": "d27aed5f",
   "metadata": {},
   "outputs": [
    {
     "data": {
      "text/plain": [
       "[0, 1, 2, 3, 4]"
      ]
     },
     "execution_count": 1,
     "metadata": {},
     "output_type": "execute_result"
    }
   ],
   "source": [
    "def remove(nums):\n",
    "    k = 1\n",
    "    i = 0\n",
    "    j = 1\n",
    "    while j < len(nums) and i < j:\n",
    "        if nums[i] != nums[j]:\n",
    "            k= k+1\n",
    "        i = i + 1\n",
    "        j = j + 1\n",
    "        nums[k-1] = nums[i]\n",
    "    return nums[:k]\n",
    "nums = [0,0,1,1,1,2,2,3,3,4]\n",
    "remove(nums)"
   ]
  },
  {
   "cell_type": "code",
   "execution_count": 2,
   "id": "3c8fa026",
   "metadata": {},
   "outputs": [
    {
     "name": "stdout",
     "output_type": "stream",
     "text": [
      "{0: 3, 1: 2, 2: 3}\n"
     ]
    }
   ],
   "source": [
    "d = {0:3, 1:2, 2:3}\n",
    "print(d)"
   ]
  },
  {
   "cell_type": "code",
   "execution_count": 15,
   "id": "2b93957d",
   "metadata": {},
   "outputs": [
    {
     "name": "stdout",
     "output_type": "stream",
     "text": [
      "0\n",
      "2\n"
     ]
    }
   ],
   "source": [
    "for i,j in d.items():\n",
    "    if j ==3:\n",
    "        print(i)"
   ]
  },
  {
   "cell_type": "code",
   "execution_count": 24,
   "id": "a868237d",
   "metadata": {},
   "outputs": [
    {
     "name": "stdout",
     "output_type": "stream",
     "text": [
      "{0: 3}\n"
     ]
    }
   ],
   "source": [
    "e = [3,2,3]\n",
    "f = {0: val for val in e}\n",
    "print(f)"
   ]
  },
  {
   "cell_type": "code",
   "execution_count": 25,
   "id": "feaec4b2",
   "metadata": {},
   "outputs": [
    {
     "data": {
      "text/plain": [
       "[3, 2]"
      ]
     },
     "execution_count": 25,
     "metadata": {},
     "output_type": "execute_result"
    }
   ],
   "source": [
    "a = []\n",
    "for i in e:\n",
    "    if i in a:\n",
    "        continue\n",
    "    a.append(i)\n",
    "a"
   ]
  },
  {
   "cell_type": "code",
   "execution_count": 32,
   "id": "19b001ef",
   "metadata": {},
   "outputs": [
    {
     "name": "stdout",
     "output_type": "stream",
     "text": [
      "1\n",
      "{3: 1}\n",
      "{3: 1, 2: 1}\n",
      "{3: 2, 2: 1}\n",
      "3\n"
     ]
    }
   ],
   "source": [
    "b = {}\n",
    "m = len(e)//2\n",
    "print(m)\n",
    "for i in e:\n",
    "    if i in b:\n",
    "        b[i] +=1\n",
    "    else:\n",
    "        b[i] = 1\n",
    "    print(b)\n",
    "for i,j in b.items():\n",
    "    if j > m:\n",
    "        print(i)"
   ]
  },
  {
   "cell_type": "code",
   "execution_count": 35,
   "id": "ab65bf91",
   "metadata": {},
   "outputs": [
    {
     "data": {
      "text/plain": [
       "2"
      ]
     },
     "execution_count": 35,
     "metadata": {},
     "output_type": "execute_result"
    }
   ],
   "source": [
    "10 >> 2"
   ]
  },
  {
   "cell_type": "code",
   "execution_count": 36,
   "id": "b651a609",
   "metadata": {},
   "outputs": [
    {
     "data": {
      "text/plain": [
       "[0, 1, 1, 2]"
      ]
     },
     "execution_count": 36,
     "metadata": {},
     "output_type": "execute_result"
    }
   ],
   "source": [
    "[x >> 1 for x in [1,2,3,4]]"
   ]
  },
  {
   "cell_type": "code",
   "execution_count": 39,
   "id": "f64cca51",
   "metadata": {},
   "outputs": [
    {
     "data": {
      "text/plain": [
       "0"
      ]
     },
     "execution_count": 39,
     "metadata": {},
     "output_type": "execute_result"
    }
   ],
   "source": [
    "1>>1"
   ]
  },
  {
   "cell_type": "code",
   "execution_count": 42,
   "id": "fcf1b655",
   "metadata": {},
   "outputs": [
    {
     "ename": "SyntaxError",
     "evalue": "invalid syntax (3250531782.py, line 1)",
     "output_type": "error",
     "traceback": [
      "\u001b[1;36m  Input \u001b[1;32mIn [42]\u001b[1;36m\u001b[0m\n\u001b[1;33m    [1,2,3] -> [3,1,2]\u001b[0m\n\u001b[1;37m            ^\u001b[0m\n\u001b[1;31mSyntaxError\u001b[0m\u001b[1;31m:\u001b[0m invalid syntax\n"
     ]
    }
   ],
   "source": [
    "[1,2,3] -> [3,1,2] \n",
    "0\n",
    "0 -> 1 \n",
    "1 -> 2\n",
    "2 -> 0 [len(ls) -1 == 0]"
   ]
  },
  {
   "cell_type": "markdown",
   "id": "bab323eb",
   "metadata": {},
   "source": [
    "## ROTATE ELEMENT 186"
   ]
  },
  {
   "cell_type": "code",
   "execution_count": 49,
   "id": "1f3261ff",
   "metadata": {},
   "outputs": [
    {
     "data": {
      "text/plain": [
       "[4, 5, 6, 7, 1, 2, 3]"
      ]
     },
     "execution_count": 49,
     "metadata": {},
     "output_type": "execute_result"
    }
   ],
   "source": [
    "def rotate_left(nums,k):\n",
    "    return nums[k:len(nums)+1] + nums[0:k]\n",
    "nums = [1,2,3,4,5,6,7]\n",
    "k = 3\n",
    "rotate(nums,k)"
   ]
  },
  {
   "cell_type": "code",
   "execution_count": 83,
   "id": "abb1e01c",
   "metadata": {},
   "outputs": [
    {
     "data": {
      "text/plain": [
       "[2, 3, 1]"
      ]
     },
     "execution_count": 83,
     "metadata": {},
     "output_type": "execute_result"
    }
   ],
   "source": [
    "def rotate_right(nums,k):\n",
    "    if k == 0:\n",
    "            nums[:] = nums\n",
    "    else:\n",
    "        if len(nums) > k:\n",
    "            g = len(nums) - k\n",
    "        else:\n",
    "            g = k - len(nums)\n",
    "        return nums[g:] + nums[0:g]\n",
    "    #return nums[k+1:len(nums)+1] + nums[0:k+1]\n",
    "nums = [1,2,3]\n",
    "k = 4\n",
    "rotate_right(nums,k)"
   ]
  },
  {
   "cell_type": "code",
   "execution_count": 63,
   "id": "28cc36ab",
   "metadata": {},
   "outputs": [
    {
     "data": {
      "text/plain": [
       "[2, 1]"
      ]
     },
     "execution_count": 63,
     "metadata": {},
     "output_type": "execute_result"
    }
   ],
   "source": [
    "n = [1,2]\n"
   ]
  },
  {
   "cell_type": "code",
   "execution_count": 82,
   "id": "cf4877d9",
   "metadata": {},
   "outputs": [
    {
     "data": {
      "text/plain": [
       "[2, 3]"
      ]
     },
     "execution_count": 82,
     "metadata": {},
     "output_type": "execute_result"
    }
   ],
   "source": [
    "b = [1,2,3]\n"
   ]
  },
  {
   "cell_type": "code",
   "execution_count": 9,
   "id": "da358ff7",
   "metadata": {},
   "outputs": [
    {
     "data": {
      "text/plain": [
       "[1, 2, 3, 4, 5]"
      ]
     },
     "execution_count": 9,
     "metadata": {},
     "output_type": "execute_result"
    }
   ],
   "source": [
    "f = [1,2,3,4,5,89,90]\n",
    "f[:-2]"
   ]
  },
  {
   "cell_type": "markdown",
   "id": "06b0267b",
   "metadata": {},
   "source": [
    "## counter of elemt in list into dict"
   ]
  },
  {
   "cell_type": "code",
   "execution_count": 11,
   "id": "9158fea8",
   "metadata": {},
   "outputs": [
    {
     "name": "stdout",
     "output_type": "stream",
     "text": [
      "{1: 1, 2: 2, 3: 4, 4: 1}\n"
     ]
    }
   ],
   "source": [
    "l = [1,2,2,3,3,3,3,4]\n",
    "d ={}\n",
    "for i in l:\n",
    "    d[i] = d.get(i,0)+1\n"
   ]
  },
  {
   "cell_type": "code",
   "execution_count": 9,
   "id": "526095fa",
   "metadata": {},
   "outputs": [
    {
     "name": "stdout",
     "output_type": "stream",
     "text": [
      "before {}\n",
      "after {'tango': 1}\n",
      "before {'tango': 1}\n",
      "after {'tango': 1, 'bravo': 1}\n",
      "before {'tango': 1, 'bravo': 1}\n",
      "after {'tango': 2, 'bravo': 1}\n",
      "before {'tango': 2, 'bravo': 1}\n",
      "after {'tango': 2, 'bravo': 1, 'alpha': 1}\n",
      "before {'tango': 2, 'bravo': 1, 'alpha': 1}\n",
      "after {'tango': 2, 'bravo': 1, 'alpha': 2}\n",
      "{'tango': 2, 'bravo': 1, 'alpha': 2}\n"
     ]
    }
   ],
   "source": [
    "names = ['tango', 'bravo', 'tango', 'alpha', 'alpha']\n",
    "d ={}\n",
    "for i in names:\n",
    "    print(\"before\",d)\n",
    "    d[i]=d.get(i,0)+1\n",
    "    print(\"after\",d)\n",
    "print(d)\n",
    "    "
   ]
  },
  {
   "cell_type": "markdown",
   "id": "ec6e0a4c",
   "metadata": {},
   "source": [
    "### 55 Jump Game"
   ]
  },
  {
   "cell_type": "code",
   "execution_count": 1,
   "id": "58b4df05",
   "metadata": {},
   "outputs": [
    {
     "name": "stdout",
     "output_type": "stream",
     "text": [
      "0\n",
      "1\n",
      "2\n"
     ]
    }
   ],
   "source": [
    "for j in range(3):\n",
    "    print(j)"
   ]
  },
  {
   "cell_type": "code",
   "execution_count": 29,
   "id": "ea3c2159",
   "metadata": {},
   "outputs": [
    {
     "data": {
      "text/plain": [
       "True"
      ]
     },
     "execution_count": 29,
     "metadata": {},
     "output_type": "execute_result"
    }
   ],
   "source": [
    "nums = [3,2,1,0,4]\n",
    "###############    WR   OO  NN  GGG   ##############\n",
    "\n",
    "def jump_game(nums):\n",
    "    i = 0\n",
    "    while i < len(nums):\n",
    "        for j in range(nums[i]+i+1):\n",
    "            if i+j >=len(nums)-1:\n",
    "                return True\n",
    "\n",
    "        if nums[i]+i != len(nums)-1:\n",
    "                i = i + nums[i]\n",
    "        else:\n",
    "            return False\n",
    "        \n",
    "jump_game(nums)\n"
   ]
  },
  {
   "cell_type": "code",
   "execution_count": 32,
   "id": "159e09e9",
   "metadata": {},
   "outputs": [
    {
     "data": {
      "text/plain": [
       "False"
      ]
     },
     "execution_count": 32,
     "metadata": {},
     "output_type": "execute_result"
    }
   ],
   "source": [
    "def jumps(nums):\n",
    "    max_jump = 0\n",
    "    \n",
    "    for i in range(len(nums)):\n",
    "        if i > max_jump:\n",
    "            return False\n",
    "        max_jump = max(i+nums[i], max_jump)\n",
    "        if max_jump >= len(nums)-1:\n",
    "            return True\n",
    "nums = [3,2,1,0,4]\n",
    "jumps(nums)"
   ]
  },
  {
   "cell_type": "markdown",
   "id": "66c41ce3",
   "metadata": {},
   "source": [
    "## MIN JUMP 45"
   ]
  },
  {
   "cell_type": "code",
   "execution_count": 1,
   "id": "a2c96eb0",
   "metadata": {},
   "outputs": [
    {
     "data": {
      "text/plain": [
       "5"
      ]
     },
     "execution_count": 1,
     "metadata": {},
     "output_type": "execute_result"
    }
   ],
   "source": [
    "def jumps_2(nums):\n",
    "    max_jump = 0\n",
    "    min_hop = float('inf')\n",
    "    for i in range(len(nums)):\n",
    "        if i > max_jump:\n",
    "            return False\n",
    "        max_jump = max(i+nums[i], max_jump)\n",
    "        if max_jump >= len(nums)-1:\n",
    "            return max_jump\n",
    "             \n",
    "nums = [2,3,3,1,4,1]\n",
    "jumps_2(nums)"
   ]
  },
  {
   "cell_type": "code",
   "execution_count": 58,
   "id": "829e6795",
   "metadata": {},
   "outputs": [
    {
     "name": "stdout",
     "output_type": "stream",
     "text": [
      "2\n",
      "4\n",
      "4\n",
      "4\n",
      "4\n",
      "4\n",
      "4\n",
      "4\n",
      "4\n",
      "4\n",
      "4\n"
     ]
    }
   ],
   "source": [
    "b = [2,3,0,1,4,1]\n",
    "t = -float('inf')\n",
    "hop = 1\n",
    "for i in range(len(b)):\n",
    "    for j in range(b[i]):\n",
    "        t = max(t,b[j]+j)\n",
    "        print(t)\n",
    "if t >= len(b)-1:\n",
    "    hop = hop+1\n",
    "    print(hop)\n",
    "    \n",
    "    "
   ]
  },
  {
   "cell_type": "markdown",
   "id": "59e80891",
   "metadata": {},
   "source": [
    "## Leetocde 121"
   ]
  },
  {
   "cell_type": "code",
   "execution_count": 15,
   "id": "aaaf0d6b",
   "metadata": {},
   "outputs": [
    {
     "data": {
      "text/plain": [
       "0"
      ]
     },
     "execution_count": 15,
     "metadata": {},
     "output_type": "execute_result"
    }
   ],
   "source": [
    "def maxProfit(prices):\n",
    "    i = 0\n",
    "    \n",
    "    profit = 0\n",
    "    while i<len(prices):\n",
    "        for j in range(i,len(prices)):\n",
    "            diff = prices[j]-prices[i]\n",
    "            profit = max(diff, profit)\n",
    "        i = i + 1  \n",
    "    return profit\n",
    "         \n",
    "maxProfit([7,6,4,3,1])"
   ]
  },
  {
   "cell_type": "code",
   "execution_count": 18,
   "id": "e21da1fc",
   "metadata": {},
   "outputs": [
    {
     "data": {
      "text/plain": [
       "0"
      ]
     },
     "execution_count": 18,
     "metadata": {},
     "output_type": "execute_result"
    }
   ],
   "source": [
    "def max_profit1(prices):\n",
    "    min_price = prices[0]\n",
    "    max_profit = 0\n",
    "    \n",
    "    for i in prices:\n",
    "        min_price = min(min_price, i)\n",
    "        max_profit = max(max_profit, i - min_price)\n",
    "    return max_profit\n",
    "max_profit1([7,6,4,3,1])"
   ]
  },
  {
   "cell_type": "markdown",
   "id": "59addab3",
   "metadata": {},
   "source": [
    "### LEETCODE 58"
   ]
  },
  {
   "cell_type": "code",
   "execution_count": 37,
   "id": "af34aa22",
   "metadata": {},
   "outputs": [
    {
     "name": "stdout",
     "output_type": "stream",
     "text": [
      "World\n",
      "H\n",
      "e\n",
      "l\n",
      "l\n",
      "o\n",
      ",\n",
      "W\n",
      "o\n",
      "r\n",
      "l\n",
      "d\n"
     ]
    }
   ],
   "source": [
    "s = \"Hello World\"\n",
    "d = s.strip()\n",
    "e = d.split() #split creates list\n",
    "print(e[-1])\n",
    "a = ','.join(e)\n",
    "for i in a:\n",
    "    print(i)"
   ]
  },
  {
   "cell_type": "code",
   "execution_count": 15,
   "id": "97fcde68",
   "metadata": {},
   "outputs": [
    {
     "data": {
      "text/plain": [
       "[5, 4, 3, 2, 1]"
      ]
     },
     "execution_count": 15,
     "metadata": {},
     "output_type": "execute_result"
    }
   ],
   "source": [
    "x = [1,2,3,4,5]\n",
    "x[::]"
   ]
  },
  {
   "cell_type": "code",
   "execution_count": 35,
   "id": "a3134650",
   "metadata": {},
   "outputs": [
    {
     "data": {
      "text/plain": [
       "'w'"
      ]
     },
     "execution_count": 35,
     "metadata": {},
     "output_type": "execute_result"
    }
   ],
   "source": [
    "q = 'windows ,laptop'\n",
    "q[0]"
   ]
  },
  {
   "cell_type": "code",
   "execution_count": 46,
   "id": "a5a84423",
   "metadata": {},
   "outputs": [
    {
     "name": "stdout",
     "output_type": "stream",
     "text": [
      "fly me   to   the moon\n",
      "22\n",
      "moon\n"
     ]
    },
    {
     "data": {
      "text/plain": [
       "4"
      ]
     },
     "execution_count": 46,
     "metadata": {},
     "output_type": "execute_result"
    }
   ],
   "source": [
    "a = \"   fly me   to   the moon  \"\n",
    "d = a.strip()\n",
    "print(d)\n",
    "print(len(d))\n",
    "s = d.split()[-1]\n",
    "print(s)\n",
    "len(s)"
   ]
  },
  {
   "cell_type": "code",
   "execution_count": 51,
   "id": "965556d8",
   "metadata": {},
   "outputs": [
    {
     "name": "stdout",
     "output_type": "stream",
     "text": [
      "4\n"
     ]
    }
   ],
   "source": [
    "a = \"   fly me   to   the moon  \"\n",
    "d = a.strip()\n",
    "j = len(d)-1\n",
    "l = 0\n",
    "while j >= 0:\n",
    "    if d[j] !=' ':  # ''->empty string, ' '-> whitespace\n",
    "        l = l + 1\n",
    "    else:\n",
    "        break\n",
    "    j = j-1\n",
    "print(l)"
   ]
  },
  {
   "cell_type": "markdown",
   "id": "a9d9aeb1",
   "metadata": {},
   "source": [
    "## LEETCODE 14"
   ]
  },
  {
   "cell_type": "code",
   "execution_count": 57,
   "id": "c737398b",
   "metadata": {},
   "outputs": [
    {
     "data": {
      "text/plain": [
       "0"
      ]
     },
     "execution_count": 57,
     "metadata": {},
     "output_type": "execute_result"
    }
   ],
   "source": [
    "1 & 2"
   ]
  },
  {
   "cell_type": "code",
   "execution_count": 59,
   "id": "8ee7e991",
   "metadata": {},
   "outputs": [
    {
     "name": "stdout",
     "output_type": "stream",
     "text": [
      "011000"
     ]
    }
   ],
   "source": [
    "## FindingBinary \n",
    "def binary(num):\n",
    "    if num > 0:\n",
    "        binary(num//2)\n",
    "    print(num%2, end='')\n",
    "num = 24\n",
    "binary(num)"
   ]
  },
  {
   "cell_type": "code",
   "execution_count": 63,
   "id": "83cd4cf9",
   "metadata": {},
   "outputs": [
    {
     "data": {
      "text/plain": [
       "'a'"
      ]
     },
     "execution_count": 63,
     "metadata": {},
     "output_type": "execute_result"
    }
   ],
   "source": [
    "ch = 'A'\n",
    "chr(ord(ch)|32)"
   ]
  },
  {
   "cell_type": "code",
   "execution_count": 64,
   "id": "f8faa5fc",
   "metadata": {},
   "outputs": [
    {
     "data": {
      "text/plain": [
       "7"
      ]
     },
     "execution_count": 64,
     "metadata": {},
     "output_type": "execute_result"
    }
   ],
   "source": [
    "5|3"
   ]
  },
  {
   "cell_type": "code",
   "execution_count": 65,
   "id": "c55b6db5",
   "metadata": {},
   "outputs": [
    {
     "data": {
      "text/plain": [
       "1"
      ]
     },
     "execution_count": 65,
     "metadata": {},
     "output_type": "execute_result"
    }
   ],
   "source": [
    "2^3"
   ]
  },
  {
   "cell_type": "code",
   "execution_count": 66,
   "id": "86ebd32c",
   "metadata": {},
   "outputs": [
    {
     "data": {
      "text/plain": [
       "3"
      ]
     },
     "execution_count": 66,
     "metadata": {},
     "output_type": "execute_result"
    }
   ],
   "source": [
    "2^1"
   ]
  },
  {
   "cell_type": "code",
   "execution_count": 71,
   "id": "94ec2f81",
   "metadata": {},
   "outputs": [
    {
     "data": {
      "text/plain": [
       "6"
      ]
     },
     "execution_count": 71,
     "metadata": {},
     "output_type": "execute_result"
    }
   ],
   "source": [
    "4^2"
   ]
  },
  {
   "cell_type": "code",
   "execution_count": 84,
   "id": "2494319d",
   "metadata": {},
   "outputs": [
    {
     "data": {
      "text/plain": [
       "12"
      ]
     },
     "execution_count": 84,
     "metadata": {},
     "output_type": "execute_result"
    }
   ],
   "source": [
    "10^6"
   ]
  },
  {
   "cell_type": "code",
   "execution_count": 96,
   "id": "f4b816ba",
   "metadata": {},
   "outputs": [
    {
     "data": {
      "text/plain": [
       "0"
      ]
     },
     "execution_count": 96,
     "metadata": {},
     "output_type": "execute_result"
    }
   ],
   "source": [
    "20 & 3"
   ]
  },
  {
   "cell_type": "code",
   "execution_count": 70,
   "id": "5d12c336",
   "metadata": {},
   "outputs": [
    {
     "data": {
      "text/plain": [
       "3"
      ]
     },
     "execution_count": 70,
     "metadata": {},
     "output_type": "execute_result"
    }
   ],
   "source": [
    "3^0"
   ]
  },
  {
   "cell_type": "code",
   "execution_count": 100,
   "id": "b7b87dc2",
   "metadata": {},
   "outputs": [
    {
     "data": {
      "text/plain": [
       "5"
      ]
     },
     "execution_count": 100,
     "metadata": {},
     "output_type": "execute_result"
    }
   ],
   "source": [
    "20>>2"
   ]
  },
  {
   "cell_type": "code",
   "execution_count": 120,
   "id": "c8214142",
   "metadata": {},
   "outputs": [
    {
     "data": {
      "text/plain": [
       "'a'"
      ]
     },
     "execution_count": 120,
     "metadata": {},
     "output_type": "execute_result"
    }
   ],
   "source": [
    "s = [\"a\"]\n",
    "def comm(strs):\n",
    "    res = ''\n",
    "    for i in range(len(strs[0])):\n",
    "        for j in range(1,len(strs)):\n",
    "            if i >= len(strs[j]) or strs[0][i] != strs[j][i]:    #i character of first strinng compared with ith correcter of every elements\n",
    "                return res\n",
    "        res = res+strs[0][i]\n",
    "    return res\n",
    "comm(s)"
   ]
  },
  {
   "cell_type": "code",
   "execution_count": 117,
   "id": "ea0ca235",
   "metadata": {},
   "outputs": [
    {
     "name": "stdout",
     "output_type": "stream",
     "text": [
      "flow\n",
      "flight\n"
     ]
    }
   ],
   "source": [
    "s = [\"flower\",\"flow\",\"flight\"]\n",
    "for j in s[1:]:\n",
    "    print(j)"
   ]
  },
  {
   "cell_type": "markdown",
   "id": "726e133b",
   "metadata": {},
   "source": [
    "## LEETCODE 28"
   ]
  },
  {
   "cell_type": "code",
   "execution_count": null,
   "id": "c1ea0997",
   "metadata": {},
   "outputs": [],
   "source": [
    "# haystack = \"sadbutsad\", needle = \"sad\"\n",
    "\n",
    "def need(h,n):\n",
    "    "
   ]
  },
  {
   "cell_type": "code",
   "execution_count": 19,
   "id": "e21182e6",
   "metadata": {},
   "outputs": [
    {
     "name": "stdout",
     "output_type": "stream",
     "text": [
      "4\n"
     ]
    }
   ],
   "source": [
    "haystack = \"mississippi\"\n",
    "needle = \"issip\"\n",
    "\n",
    "for i in range(len(haystack) - len(needle) + 1):\n",
    "    if haystack[i:i+len(needle)] == needle:\n",
    "        print(i)\n",
    "        "
   ]
  },
  {
   "cell_type": "code",
   "execution_count": 21,
   "id": "6ce5da80",
   "metadata": {},
   "outputs": [
    {
     "data": {
      "text/plain": [
       "(11, 5)"
      ]
     },
     "execution_count": 21,
     "metadata": {},
     "output_type": "execute_result"
    }
   ],
   "source": [
    "len(haystack), len(needle)"
   ]
  },
  {
   "cell_type": "markdown",
   "id": "e53332aa",
   "metadata": {},
   "source": [
    "## Leetcode 13"
   ]
  },
  {
   "cell_type": "code",
   "execution_count": 22,
   "id": "b2a72f79",
   "metadata": {},
   "outputs": [
    {
     "name": "stdout",
     "output_type": "stream",
     "text": [
      "I\n",
      "I\n",
      "I\n"
     ]
    }
   ],
   "source": [
    "s = 'III'\n",
    "for i in s:\n",
    "    print(i)"
   ]
  },
  {
   "cell_type": "code",
   "execution_count": 39,
   "id": "c8610da6",
   "metadata": {},
   "outputs": [
    {
     "data": {
      "text/plain": [
       "1994"
      ]
     },
     "execution_count": 39,
     "metadata": {},
     "output_type": "execute_result"
    }
   ],
   "source": [
    "def rom(s):\n",
    "    vals = {\n",
    "            'I': 1,\n",
    "            'V': 5,\n",
    "            'X': 10,\n",
    "            'L': 50,\n",
    "            'C':100,\n",
    "            'D':500,\n",
    "            'M':1000,\n",
    "        }\n",
    "    \n",
    "    if s == 0:\n",
    "        return 0\n",
    "    add = 0\n",
    "    for i in range(len(s)):\n",
    "        if i < len(s)-1 and vals[s[i]] < vals[s[i+1]]:\n",
    "            add = add - vals[s[i]]\n",
    "        else:\n",
    "            add = add + vals[s[i]]\n",
    "\n",
    "            \n",
    "    return add\n",
    "s = \"MCMXCIV\"\n",
    "rom(s)"
   ]
  },
  {
   "cell_type": "code",
   "execution_count": 32,
   "id": "f13fa625",
   "metadata": {},
   "outputs": [
    {
     "data": {
      "text/plain": [
       "'M'"
      ]
     },
     "execution_count": 32,
     "metadata": {},
     "output_type": "execute_result"
    }
   ],
   "source": [
    "f = \"MCMXCIV\"\n",
    "f[0]"
   ]
  },
  {
   "cell_type": "markdown",
   "id": "d6a35bf4",
   "metadata": {},
   "source": [
    "## Leetcode 134"
   ]
  },
  {
   "cell_type": "code",
   "execution_count": 3,
   "id": "4b624f80",
   "metadata": {},
   "outputs": [],
   "source": [
    "# f = [1,2,3,4,5]\n",
    "# l = len(f)\n",
    "# i = 0\n",
    "# while True:\n",
    "#     print(f[i])\n",
    "#     i = (i + 1)%l"
   ]
  },
  {
   "cell_type": "code",
   "execution_count": 14,
   "id": "5b5eb07f",
   "metadata": {},
   "outputs": [
    {
     "name": "stdout",
     "output_type": "stream",
     "text": [
      "3\n",
      "[4, 5, 1, 2, 3, 4] [1, 2, 3, 4, 5, 1]\n"
     ]
    }
   ],
   "source": [
    "gas = [1,2,3,4,5]\n",
    "cost = [3,4,5,1,2]\n",
    "def canComplete(gas,cost):\n",
    "    i = 0\n",
    "    j = 0\n",
    "    while i < len(gas) and j < len(cost):\n",
    "        if gas[i] > cost[j]:\n",
    "            start = i\n",
    "            break\n",
    "        i = i + 1\n",
    "        j = j + 1\n",
    "    print(start)\n",
    "    gas1 = gas[start:] + gas[:start+1]\n",
    "    cost1 = cost[start:] + cost[:start+1]\n",
    "    print(gas1, cost1)\n",
    "    a = 0\n",
    "    b = 0\n",
    "    while a < len(gas1) and j < len(cost1):\n",
    "        if gas1[i]>cost1[j]:\n",
    "            gas1[i+1] = gas1[i] - cost1[j] + gas1[i+1] \n",
    "canComplete(gas,cost)"
   ]
  },
  {
   "cell_type": "markdown",
   "id": "0ccef1d1",
   "metadata": {},
   "source": [
    "## Leetcode 70"
   ]
  },
  {
   "cell_type": "code",
   "execution_count": 11,
   "id": "db954caa",
   "metadata": {},
   "outputs": [
    {
     "name": "stdout",
     "output_type": "stream",
     "text": [
      "[0, 0, 0, 0, 1, 1]\n",
      "8\n"
     ]
    }
   ],
   "source": [
    "n = 5\n",
    "dp = [0 for i in range(n+1)]\n",
    "l = len(dp)\n",
    "dp[l-1] = 1\n",
    "dp[l-2] = 1\n",
    "print(dp)\n",
    "for i in range(l-3,-1,-1):\n",
    "    dp[i] = dp[i+1]+dp[i+2]\n",
    "print(dp[0])\n",
    "    "
   ]
  },
  {
   "cell_type": "code",
   "execution_count": 12,
   "id": "1f3db696",
   "metadata": {},
   "outputs": [
    {
     "data": {
      "text/plain": [
       "8"
      ]
     },
     "execution_count": 12,
     "metadata": {},
     "output_type": "execute_result"
    }
   ],
   "source": [
    "def climb(n):\n",
    "    if n<=2:\n",
    "        return n\n",
    "    prev = 1\n",
    "    curr = 2\n",
    "    for _ in range(3,n+1):\n",
    "        next_step = prev+curr\n",
    "        prev = curr\n",
    "        curr = next_step\n",
    "    return curr\n",
    "climb(5)"
   ]
  },
  {
   "cell_type": "markdown",
   "id": "a3406233",
   "metadata": {},
   "source": [
    "## Leetcode 746"
   ]
  },
  {
   "cell_type": "code",
   "execution_count": 40,
   "id": "233daab7",
   "metadata": {},
   "outputs": [
    {
     "name": "stdout",
     "output_type": "stream",
     "text": [
      "[0, 0, 0, 0, 0, 0, 0, 0, 0, 1, 0]\n",
      "[0, 0, 0, 0, 0, 0, 0, 0, 100, 1, 0]\n",
      "[0, 0, 0, 0, 0, 0, 0, 2, 100, 1, 0]\n",
      "[0, 0, 0, 0, 0, 0, 3, 2, 100, 1, 0]\n",
      "[0, 0, 0, 0, 0, 102, 3, 2, 100, 1, 0]\n",
      "[0, 0, 0, 0, 4, 102, 3, 2, 100, 1, 0]\n",
      "[0, 0, 0, 5, 4, 102, 3, 2, 100, 1, 0]\n",
      "[0, 0, 5, 5, 4, 102, 3, 2, 100, 1, 0]\n",
      "[0, 105, 5, 5, 4, 102, 3, 2, 100, 1, 0]\n",
      "[6, 105, 5, 5, 4, 102, 3, 2, 100, 1, 0]\n"
     ]
    },
    {
     "data": {
      "text/plain": [
       "6"
      ]
     },
     "execution_count": 40,
     "metadata": {},
     "output_type": "execute_result"
    }
   ],
   "source": [
    "cost = [1,100,1,1,1,100,1,1,100,1]\n",
    "#dp = [0,0,0,0]\n",
    "def mincost(cost):\n",
    "    dp = [0 for _ in range(len(cost)+1)]\n",
    "    i = len(cost)-1\n",
    "    j = len(dp) -2\n",
    "    while i >= 0 and j >=0:\n",
    "        \n",
    "        dp[j] = min(cost[i] + dp[j+1], cost[i] + dp[j+2]) if j+2 < len(dp)-1 else cost[i]\n",
    "        i = i -1\n",
    "        j = j -1\n",
    "        print(dp)\n",
    "    return min(dp[0], dp[1])\n",
    "mincost(cost)"
   ]
  },
  {
   "cell_type": "code",
   "execution_count": 38,
   "id": "dd127dcf",
   "metadata": {},
   "outputs": [
    {
     "data": {
      "text/plain": [
       "[6, 105, 5, 5, 4, 102, 3, 2, 100, 1]"
      ]
     },
     "execution_count": 38,
     "metadata": {},
     "output_type": "execute_result"
    }
   ],
   "source": [
    "cost = [1,100,1,1,1,100,1,1,100,1]\n",
    "def mincost1(cost):\n",
    "    for i in range(len(cost)-3,-1,-1):\n",
    "        cost[i] = min(cost[i]+cost[i+1], cost[i]+cost[i+2])\n",
    "    return cost\n",
    "mincost1(cost)\n",
    "    "
   ]
  },
  {
   "cell_type": "markdown",
   "id": "c5e72576",
   "metadata": {},
   "source": [
    "### LEETCODE 198"
   ]
  },
  {
   "cell_type": "code",
   "execution_count": 58,
   "id": "9caf1a65",
   "metadata": {},
   "outputs": [
    {
     "name": "stdout",
     "output_type": "stream",
     "text": [
      "[2, 2, 3, 0]\n",
      "[2, 2, 3, 4]\n"
     ]
    },
    {
     "data": {
      "text/plain": [
       "4"
      ]
     },
     "execution_count": 58,
     "metadata": {},
     "output_type": "execute_result"
    }
   ],
   "source": [
    "nums = [2,1,1,2]\n",
    "dp = [0 for _ in range(len(nums))]\n",
    "#  [2,2,0,0]\n",
    "def robber(nums):\n",
    "    dp[0] = nums[0]\n",
    "    dp[1] = max(nums[0],nums[1])\n",
    "    for i in range(2, len(dp)):\n",
    "        dp[i] = max(nums[i] + dp[i-2], dp[i-1])\n",
    "        print(dp)\n",
    "    return max(dp)\n",
    "        \n",
    "robber(nums)"
   ]
  },
  {
   "cell_type": "code",
   "execution_count": 57,
   "id": "094db106",
   "metadata": {},
   "outputs": [
    {
     "data": {
      "text/plain": [
       "[2, 1, 1, 2]"
      ]
     },
     "execution_count": 57,
     "metadata": {},
     "output_type": "execute_result"
    }
   ],
   "source": [
    "m = [2,1,1,2]\n",
    "m[]"
   ]
  },
  {
   "cell_type": "markdown",
   "id": "58591669",
   "metadata": {},
   "source": [
    "## LEETCODE 238"
   ]
  },
  {
   "cell_type": "code",
   "execution_count": 31,
   "id": "7c746a49",
   "metadata": {},
   "outputs": [
    {
     "data": {
      "text/plain": [
       "[24, 288, 2304, 13824]"
      ]
     },
     "execution_count": 31,
     "metadata": {},
     "output_type": "execute_result"
    }
   ],
   "source": [
    "nums = [1,2,3,4]\n",
    "def prod(nums):\n",
    "    res =1\n",
    "    ans = []\n",
    "    for x in nums:\n",
    "        numscopy = nums[:]\n",
    "        numscopy.remove(x)\n",
    "        for i in numscopy:\n",
    "            res = res*i\n",
    "        ans.append(res)\n",
    "    return ans\n",
    "        \n",
    "prod(nums)"
   ]
  },
  {
   "cell_type": "code",
   "execution_count": 4,
   "id": "5d66dcff",
   "metadata": {},
   "outputs": [
    {
     "name": "stdout",
     "output_type": "stream",
     "text": [
      "24\n"
     ]
    }
   ],
   "source": [
    "l  = [2,3,4]\n",
    "res = 1\n",
    "for x in l:\n",
    "    res = res*x\n",
    "print(res)"
   ]
  },
  {
   "cell_type": "code",
   "execution_count": 15,
   "id": "2bbaa07e",
   "metadata": {},
   "outputs": [
    {
     "name": "stdout",
     "output_type": "stream",
     "text": [
      "[4, 3, 4]\n",
      "[3, 3, 4]\n",
      "[4, 3, 4]\n"
     ]
    }
   ],
   "source": [
    "for x in l:\n",
    "    l[0],x=x,l[0]\n",
    "    print(l)"
   ]
  },
  {
   "cell_type": "raw",
   "id": "ebdc55d6",
   "metadata": {},
   "source": [
    "[1,2,3,4]\n",
    "[2,3,4]=>"
   ]
  },
  {
   "cell_type": "markdown",
   "id": "28d9eeb3",
   "metadata": {},
   "source": [
    "## Leetcode 125"
   ]
  },
  {
   "cell_type": "code",
   "execution_count": 24,
   "id": "524e19e5",
   "metadata": {},
   "outputs": [
    {
     "name": "stdout",
     "output_type": "stream",
     "text": [
      "amanaplanacanalpanama\n"
     ]
    },
    {
     "data": {
      "text/plain": [
       "True"
      ]
     },
     "execution_count": 24,
     "metadata": {},
     "output_type": "execute_result"
    }
   ],
   "source": [
    "s = \"A man, a plan, a canal: Panama\"\n",
    "\n",
    "def pal(s):\n",
    "    c = ''\n",
    "    for i in s.lower():\n",
    "        if i.isalnum():\n",
    "            c = c+i\n",
    "    print(c)\n",
    "    return True if c == c[::-1] else False\n",
    "pal(s)"
   ]
  },
  {
   "cell_type": "code",
   "execution_count": 27,
   "id": "dd63d170",
   "metadata": {},
   "outputs": [
    {
     "name": "stdout",
     "output_type": "stream",
     "text": [
      "18\n",
      "24\n",
      "32\n"
     ]
    }
   ],
   "source": [
    "ages = [5, 12, 17, 18, 24, 32]\n",
    "\n",
    "def myFunc(x):\n",
    "      if x < 18:\n",
    "        return False\n",
    "      else:\n",
    "        return True\n",
    "\n",
    "adults = filter(myFunc, ages)\n",
    "\n",
    "for x in adults:\n",
    "    print(x)"
   ]
  },
  {
   "cell_type": "markdown",
   "id": "7edf2c57",
   "metadata": {},
   "source": [
    "## Leetcode 213"
   ]
  },
  {
   "cell_type": "code",
   "execution_count": 48,
   "id": "73e3a2f1",
   "metadata": {},
   "outputs": [
    {
     "name": "stdout",
     "output_type": "stream",
     "text": [
      "skip first [2, 3, 1]\n",
      "[2, 3, 3]\n",
      "1 3\n",
      "skip last [1, 2, 3]\n",
      "[1, 2, 4]\n",
      "2 4\n"
     ]
    },
    {
     "data": {
      "text/plain": [
       "4"
      ]
     },
     "execution_count": 48,
     "metadata": {},
     "output_type": "execute_result"
    }
   ],
   "source": [
    "def helper(num):\n",
    "    dp = [0 for _ in range(len(num))]\n",
    "    if len(nums)<=2:\n",
    "        return max(num)\n",
    "    dp[0] = num[0]\n",
    "    dp[1] = max(num[1], num[0])\n",
    "    for i in range(2, len(dp)):\n",
    "        dp[i] = max(num[i] + dp[i-2], dp[i-1])\n",
    "    print(dp)\n",
    "    return dp\n",
    "def rob(nums):\n",
    "    if len(nums)==0:\n",
    "        return 0\n",
    "    print(\"skip first\",nums[1:])\n",
    "    max1 = max(helper(nums[1:]))\n",
    "    print(\"1\",max1)\n",
    "    \n",
    "    print(\"skip last\",nums[:-1])\n",
    "    max2 = max(helper(nums[:-1]))\n",
    "    print(\"2\",max2)\n",
    "    return max(max1,max2)\n",
    "nums = [1,2,3,1]\n",
    "rob(nums)"
   ]
  },
  {
   "cell_type": "markdown",
   "id": "4fb304a5",
   "metadata": {},
   "source": [
    "## Leetcode 1"
   ]
  },
  {
   "cell_type": "code",
   "execution_count": 61,
   "id": "f7191081",
   "metadata": {},
   "outputs": [
    {
     "name": "stdout",
     "output_type": "stream",
     "text": [
      "{3: 0}\n"
     ]
    },
    {
     "data": {
      "text/plain": [
       "[0, 1]"
      ]
     },
     "execution_count": 61,
     "metadata": {},
     "output_type": "execute_result"
    }
   ],
   "source": [
    "def twoSum(nums):\n",
    "    target = 6\n",
    "    dic = {}\n",
    "    for i,j in enumerate(nums):\n",
    "        diff = target - j\n",
    "        if diff in dic:\n",
    "            print(dic)\n",
    "            return [dic[diff],i]\n",
    "        dic[j] = i\n",
    "    print(dic)\n",
    "    return []\n",
    "            \n",
    "nums = [3,3,4]\n",
    "twoSum(nums)"
   ]
  },
  {
   "cell_type": "markdown",
   "id": "c68466ae",
   "metadata": {},
   "source": [
    "## LEETCODE 15"
   ]
  },
  {
   "cell_type": "code",
   "execution_count": 88,
   "id": "2c4a7164",
   "metadata": {},
   "outputs": [
    {
     "name": "stdout",
     "output_type": "stream",
     "text": [
      "[-4, -1, -1, 0, 1, 2]\n"
     ]
    },
    {
     "data": {
      "text/plain": [
       "[[-1, -1, 2], [-1, 0, 1]]"
      ]
     },
     "execution_count": 88,
     "metadata": {},
     "output_type": "execute_result"
    }
   ],
   "source": [
    "def threesum(nums):\n",
    "    nums.sort()\n",
    "    print(nums)\n",
    "    d = []\n",
    "    for a in range(len(nums)-2):\n",
    "        if a>0 and nums[a]==nums[a-1]:\n",
    "            continue\n",
    "        b = a+1\n",
    "        c = len(nums)-1\n",
    "        while b < c:\n",
    "            total = nums[a]+nums[b]+nums[c]\n",
    "            if total == 0:\n",
    "                d.append([nums[a],nums[b],nums[c]])\n",
    "                b=  b + 1\n",
    "                c = c -1\n",
    "                while b < c and nums[b]==nums[b-1]:\n",
    "                    b=b+1\n",
    "                while b < c and nums[c]==nums[c+1]:\n",
    "                    c = c-1\n",
    "            elif total < 0:\n",
    "                b = b + 1\n",
    "            else:\n",
    "                c = c - 1\n",
    "                \n",
    "    return d\n",
    "nums = [-1,0,1,2,-1,-4]\n",
    "threesum(nums)"
   ]
  },
  {
   "cell_type": "code",
   "execution_count": 89,
   "id": "2fb18cb5",
   "metadata": {},
   "outputs": [
    {
     "name": "stdout",
     "output_type": "stream",
     "text": [
      "0\n",
      "1\n",
      "2\n",
      "3\n"
     ]
    }
   ],
   "source": [
    "for i in range(4):\n",
    "    print(i)"
   ]
  },
  {
   "cell_type": "markdown",
   "id": "4d327897",
   "metadata": {},
   "source": [
    "## LEETCODE 209"
   ]
  },
  {
   "cell_type": "code",
   "execution_count": 25,
   "id": "70f1efd4",
   "metadata": {},
   "outputs": [
    {
     "name": "stdout",
     "output_type": "stream",
     "text": [
      "inf\n",
      "4\n",
      "3\n",
      "3 5\n"
     ]
    },
    {
     "data": {
      "text/plain": [
       "3"
      ]
     },
     "execution_count": 25,
     "metadata": {},
     "output_type": "execute_result"
    }
   ],
   "source": [
    "def size(target, nums):\n",
    "    l = 0 \n",
    "    r = 0\n",
    "    \n",
    "    while r < len(nums):\n",
    "        add=0\n",
    "        for i in range(l,r+1):\n",
    "            add=add+nums[i]\n",
    "        if add>=target:\n",
    "            add=add-nums[l]\n",
    "            l=l+1\n",
    "            print(res)\n",
    "            \n",
    "        else:\n",
    "            r=r+1\n",
    "        \n",
    "    print(l,r)\n",
    "    return 0 if res == float('inf') else r-l+1\n",
    "seq = [1,2,3,4,5]\n",
    "t = 11\n",
    "size(t, seq)"
   ]
  },
  {
   "cell_type": "markdown",
   "id": "3f855b73",
   "metadata": {},
   "source": [
    "## LINKED LISTS"
   ]
  },
  {
   "cell_type": "code",
   "execution_count": 47,
   "id": "2ac8a71e",
   "metadata": {},
   "outputs": [
    {
     "name": "stdout",
     "output_type": "stream",
     "text": [
      "2\n",
      "3\n",
      "0\n",
      "4\n",
      "5\n",
      "6\n",
      "Middle Element is : 4\n",
      "Node at 3 is: 0\n"
     ]
    }
   ],
   "source": [
    "class Node:\n",
    "    def __init__(self, val):\n",
    "        self.val = val\n",
    "        self.next = None\n",
    "        \n",
    "class LinkedList:\n",
    "    def __init__(self, head=None):\n",
    "        self.head = head\n",
    "        \n",
    "    def insert(self, val):\n",
    "        newNode = Node(val)\n",
    "        if self.head:\n",
    "            curr = self.head\n",
    "            while curr.next:\n",
    "                curr = curr.next\n",
    "            curr.next = newNode\n",
    "            \n",
    "        else:\n",
    "            self.head = newNode\n",
    "            \n",
    "    # 2 -> 3 -> 4 -> 5 -> 6\n",
    "    def insertN(self, n, val):\n",
    "        newNode = Node(val)\n",
    "        ptr = 1\n",
    "        curr = self.head\n",
    "        while ptr != n-1 and curr:\n",
    "            curr = curr.next\n",
    "            ptr = ptr+1\n",
    "        newNode.next = curr.next\n",
    "        curr.next = newNode\n",
    "        \n",
    "    # x[prev] -> 2[curr] -> 3[next] -> 4 -> 5 -> 6 -> x\n",
    "    \n",
    "    # x[] <- 2[] <- 3[] <- 4[] <- 5[] <- 6[prev] -> x[curr]\n",
    "    \n",
    "    # x <- 2 <- 3 <- 4 <- 5 <- 6 <- x\n",
    "    \n",
    "    # x <- 2[curr]  3[nxt]\n",
    "    \n",
    "    def reverse(self):\n",
    "        prev = None\n",
    "        curr = self.head\n",
    "        while curr:\n",
    "            nxt = curr.next\n",
    "            curr.next = prev\n",
    "            prev = curr\n",
    "            curr = nxt\n",
    "        self.head = prev\n",
    "            \n",
    "            \n",
    "    def printMiddle(self):\n",
    "        sl = self.head\n",
    "        fa = self.head\n",
    "        while fa and fa.next:\n",
    "            sl = sl.next\n",
    "            fa = fa.next.next\n",
    "            #print(\"fast val\",fa.val)\n",
    "            \n",
    "        print(\"Middle Element is :\",sl.val)\n",
    "        \n",
    "    def printN(self,n):\n",
    "        curr = self.head\n",
    "        ptr = 1\n",
    "        while ptr != n:\n",
    "            curr = curr.next\n",
    "            ptr=ptr+1\n",
    "        print(\"Node at {} is:\".format(n),curr.val)\n",
    "            \n",
    "            \n",
    "    def printLL(self):\n",
    "        curr = self.head\n",
    "        while curr:\n",
    "            print(curr.val)\n",
    "            curr = curr.next\n",
    "        \n",
    "LL = LinkedList()\n",
    "LL.insert(2)\n",
    "LL.insert(3)\n",
    "LL.insert(4)\n",
    "LL.insert(5)\n",
    "LL.insert(6)\n",
    "#LL.insert(6)\n",
    "LL.insertN(3,0)\n",
    "LL.printLL()\n",
    "LL.printMiddle()\n",
    "LL.printN(3)"
   ]
  },
  {
   "cell_type": "code",
   "execution_count": 46,
   "id": "46e61bf3",
   "metadata": {},
   "outputs": [
    {
     "data": {
      "text/plain": [
       "[4, 3, 2, 1]"
      ]
     },
     "execution_count": 46,
     "metadata": {},
     "output_type": "execute_result"
    }
   ],
   "source": [
    "d = [1,2,3,4]\n",
    "a = []\n",
    "l = len(d)\n",
    "i = l-1\n",
    "while i>=0:\n",
    "    a.append(d[i])\n",
    "    i=i-1\n",
    "a"
   ]
  },
  {
   "cell_type": "markdown",
   "id": "1b63ddab",
   "metadata": {},
   "source": [
    "## BFS"
   ]
  },
  {
   "cell_type": "code",
   "execution_count": 6,
   "id": "12840033",
   "metadata": {},
   "outputs": [
    {
     "name": "stdout",
     "output_type": "stream",
     "text": [
      "[0]\n",
      "v {0}\n",
      "0 visited {0, 1}\n",
      "Q [1]\n",
      "visited {0, 1, 2}\n",
      "Q [1, 2]\n",
      "visited {0, 1, 2, 3}\n",
      "Q [1, 2, 3]\n",
      "1 2 visited {0, 1, 2, 3, 4}\n",
      "Q [3, 4]\n",
      "3 4 "
     ]
    }
   ],
   "source": [
    "def bfs(graph, start):\n",
    "    queue = [start]\n",
    "    print(queue)\n",
    "    visited = set()\n",
    "    visited.add(start)\n",
    "    print(\"v\", visited)\n",
    "    \n",
    "    while queue:\n",
    "        node = queue.pop(0)\n",
    "        print(node, end=\" \")\n",
    "        for n in graph[node]:\n",
    "            if n not in visited:\n",
    "                visited.add(n)\n",
    "                print(\"visited\", visited)\n",
    "                queue.append(n)\n",
    "                print(\"Q\",queue)\n",
    "graph = {0: [1, 2, 3], 1: [0,2], 2: [4], 3: [0], 4:[2]}\n",
    "bfs(graph, 0)"
   ]
  },
  {
   "cell_type": "markdown",
   "id": "8e22fd37",
   "metadata": {},
   "source": [
    "## DFS"
   ]
  },
  {
   "cell_type": "code",
   "execution_count": 7,
   "id": "613f6fa3",
   "metadata": {},
   "outputs": [
    {
     "name": "stdout",
     "output_type": "stream",
     "text": [
      "fis 0\n",
      "0 vis {0}\n",
      "sta [2]\n",
      "sta [2, 1]\n",
      "fis 1\n",
      "1 vis {0, 1}\n",
      "sta [2, 2]\n",
      "fis 2\n",
      "2 vis {0, 1, 2}\n",
      "sta [2, 3]\n",
      "fis 3\n",
      "3 vis {0, 1, 2, 3}\n",
      "fis 2\n"
     ]
    }
   ],
   "source": [
    "def dfs(graph, start):\n",
    "    stack = [start]\n",
    "    visited = set()\n",
    "    \n",
    "    while stack:\n",
    "        node = stack.pop()\n",
    "        print(\"fis\", node)\n",
    "        if node not in visited:\n",
    "            print(node, end = \" \")\n",
    "            visited.add(node)\n",
    "            print(\"vis\", visited)\n",
    "            \n",
    "            for n in reversed(graph[node]):\n",
    "                if n not in visited:\n",
    "                    stack.append(n)\n",
    "                    print(\"sta\", stack)\n",
    "                    \n",
    "graph = {0: [1, 2], 1: [2], 2: [3], 3: [1, 2]}\n",
    "dfs(graph, 0)"
   ]
  },
  {
   "cell_type": "markdown",
   "id": "ea8f6236",
   "metadata": {},
   "source": [
    "## LEETCODE 200"
   ]
  },
  {
   "cell_type": "code",
   "execution_count": 31,
   "id": "b10d3e8f",
   "metadata": {},
   "outputs": [
    {
     "name": "stdout",
     "output_type": "stream",
     "text": [
      "1\n"
     ]
    }
   ],
   "source": [
    "graph = [[\"1\",\"1\",\"1\",\"1\",\"0\"],[\"1\",\"1\",\"0\",\"1\",\"0\"],[\"1\",\"1\",\"0\",\"0\",\"0\"],[\"0\",\"0\",\"0\",\"0\",\"0\"]]\n",
    "# len(graph) = 4 (rows)\n",
    "# len(graph[0]) = 5 (cols)\n",
    "\n",
    "def islands(graph):\n",
    "    rows, cols = len(graph), len(graph[0])\n",
    "    count = 0\n",
    "    visited = set()\n",
    "    \n",
    "    def bfs(r,c):\n",
    "        q = [(r,c)]\n",
    "        visited.add((r,c))\n",
    "        while q:\n",
    "            a,b = q.pop(0)\n",
    "            direction = [[1,0], [-1,0], [0,1], [0,-1]]\n",
    "            for dr, dc in direction:\n",
    "                if a+dr in range(rows) and b+dc in range(cols) and graph[a+dr][b+dc]==\"1\" and (a+dr, b+dc) not in visited:\n",
    "                    visited.add((a+dr, b+dc))\n",
    "                    q.append((a+dr, b+dc))\n",
    "                    \n",
    "    for r in range(rows):\n",
    "        for c in range(cols):\n",
    "            if graph[r][c] == \"1\" and (r,c) not in visited:\n",
    "                bfs(r,c)\n",
    "                count += 1\n",
    "    return count\n",
    "    \n",
    "print(islands(graph))"
   ]
  },
  {
   "cell_type": "code",
   "execution_count": 17,
   "id": "b6897992",
   "metadata": {},
   "outputs": [
    {
     "data": {
      "text/plain": [
       "{(1, 0)}"
      ]
     },
     "execution_count": 17,
     "metadata": {},
     "output_type": "execute_result"
    }
   ],
   "source": [
    "e = set()\n",
    "e.add((1,0))\n",
    "e"
   ]
  },
  {
   "cell_type": "code",
   "execution_count": 21,
   "id": "0bb8c1c0",
   "metadata": {},
   "outputs": [
    {
     "name": "stdout",
     "output_type": "stream",
     "text": [
      "2 0\n",
      "0 0\n",
      "1 1\n",
      "1 -1\n"
     ]
    },
    {
     "data": {
      "text/plain": [
       "[(1, 0), (2, 0), (3, 0)]"
      ]
     },
     "execution_count": 21,
     "metadata": {},
     "output_type": "execute_result"
    }
   ],
   "source": [
    "dt = [[1,0], [-1,0], [0,1], [0,-1]]\n",
    "for r,c in dt:\n",
    "    print(1+r,c)\n",
    "d = [(1,0),(2,0)]\n",
    "d.append((3,0))\n",
    "d"
   ]
  },
  {
   "cell_type": "code",
   "execution_count": 37,
   "id": "950e1519",
   "metadata": {},
   "outputs": [
    {
     "name": "stdout",
     "output_type": "stream",
     "text": [
      "1\n"
     ]
    }
   ],
   "source": [
    "graph = [[\"1\",\"1\",\"1\",\"1\",\"0\"],[\"1\",\"1\",\"0\",\"1\",\"0\"],[\"1\",\"1\",\"0\",\"0\",\"0\"],[\"0\",\"0\",\"0\",\"0\",\"0\"]]\n",
    "# len(graph) = 4 (rows)\n",
    "# len(graph[0]) = 5 (cols)\n",
    "\n",
    "def islands1(graph):\n",
    "    rows, cols = len(graph), len(graph[0])\n",
    "    count = 0\n",
    "    visited = set()\n",
    "    \n",
    "    def dfs(r,c):\n",
    "        s = [(r,c)]\n",
    "        #visited.add((r,c))\n",
    "        while s:\n",
    "            a,b = s.pop()\n",
    "            if (a,b) not in visited:\n",
    "                visited.add((a,b))\n",
    "                direction = [[1,0], [-1,0], [0,1], [0,-1]]\n",
    "                for dr, dc in direction:\n",
    "                    if a+dr in range(rows) and b+dc in range(cols) and graph[a+dr][b+dc]==\"1\" and (a+dr, b+dc) not in visited:\n",
    "                        #visited.add((a+dr, b+dc))\n",
    "                        s.append((a+dr, b+dc))\n",
    "                    \n",
    "    for r in range(rows):\n",
    "        for c in range(cols):\n",
    "            if graph[r][c] == \"1\" and (r,c) not in visited:\n",
    "                dfs(r,c)\n",
    "                count += 1\n",
    "    return count\n",
    "    \n",
    "print(islands1(graph))"
   ]
  },
  {
   "cell_type": "markdown",
   "id": "568b047f",
   "metadata": {},
   "source": [
    "Diff is nighbour exploration:\n",
    "1. BFS: When exploring a cell, all its immediate neighbours are addd to the queue if they are part of island (1) and not yet vsisted. Each cell mark as visited when it is added to the queue, ensuring it isn't revisited.\n",
    "\n",
    "2. DFS: When exploring a cell, all its immediate neighbous are added to the stack if they are part of the island (1) and not yet visited. Each cell marked as visited when it is popped from he stack, ensuring it isn't revisited. "
   ]
  },
  {
   "cell_type": "markdown",
   "id": "457b4370",
   "metadata": {},
   "source": [
    "## Valid Paranthesis"
   ]
  },
  {
   "cell_type": "code",
   "execution_count": 7,
   "id": "2c931935",
   "metadata": {},
   "outputs": [
    {
     "name": "stdout",
     "output_type": "stream",
     "text": [
      "r [\n",
      "whats in stack ['[']\n",
      "r {\n",
      "whats in stack ['[', '{']\n",
      "r (\n",
      "whats in stack ['[', '{', '(']\n",
      "r )\n",
      "stack (\n",
      "popping ['[', '{', '(']\n",
      "a (\n",
      "r }\n",
      "stack {\n",
      "popping ['[', '{']\n",
      "a {\n",
      "r ]\n",
      "stack [\n",
      "popping ['[']\n",
      "a [\n"
     ]
    },
    {
     "data": {
      "text/plain": [
       "True"
      ]
     },
     "execution_count": 7,
     "metadata": {},
     "output_type": "execute_result"
    }
   ],
   "source": [
    "def valid(s):\n",
    "    stack = []\n",
    "    closeToOpen = {\")\":\"(\", \"}\":\"{\", \"]\":\"[\"}\n",
    "    for r in s:\n",
    "        \n",
    "        if r in closeToOpen:\n",
    "            \n",
    "            if stack and stack[-1] == closeToOpen[r]:\n",
    "                \n",
    "                a = stack.pop()\n",
    "                \n",
    "            else:\n",
    "                return False\n",
    "        else:\n",
    "            stack.append(r)\n",
    "            \n",
    "    return True if not stack else False\n",
    "s = \"[{()}]\"\n",
    "valid(s)"
   ]
  },
  {
   "cell_type": "code",
   "execution_count": 1,
   "id": "683d1c9c",
   "metadata": {},
   "outputs": [
    {
     "name": "stdout",
     "output_type": "stream",
     "text": [
      "1\n",
      "2\n"
     ]
    }
   ],
   "source": [
    "h = {\"1\": \"a\", \"2\":\"b\", \"3\":\"c\"}\n",
    "f = [\"1\",\"a\",\"2\"]\n",
    "for i in f:\n",
    "    if i in h:\n",
    "        print(i)"
   ]
  },
  {
   "cell_type": "code",
   "execution_count": 20,
   "id": "20871a59",
   "metadata": {},
   "outputs": [
    {
     "name": "stdout",
     "output_type": "stream",
     "text": [
      "['(', 'a', 'b', 'c', 'd', ')']\n",
      "0 (\n",
      "s [0]\n",
      "1 a\n",
      "2 b\n",
      "3 c\n",
      "4 d\n",
      "5 )\n",
      "start 0\n",
      "i 5\n",
      "l ['d', 'c', 'b', 'a', '']\n",
      "dcba\n"
     ]
    }
   ],
   "source": [
    "a = \"(abcd)\"\n",
    "l = [\"\"]*len(a)\n",
    "print(list(a))\n",
    "s = []\n",
    "for i, j in enumerate(a):\n",
    "    print(i,j)\n",
    "    if j == '(':\n",
    "        s.append(i)\n",
    "        print(\"s\", s)\n",
    "    elif j == ')':\n",
    "        start = s.pop()\n",
    "        print(\"start\", start)\n",
    "        print(\"i\", i)\n",
    "        l[start:i] = reversed(a[start+1:i])\n",
    "        print(\"l\",l)\n",
    "        \n",
    "print(''.join([char for char in l if char not in '()' ]))"
   ]
  },
  {
   "cell_type": "markdown",
   "id": "cc40701e",
   "metadata": {},
   "source": [
    "## Stack: Reverse String"
   ]
  },
  {
   "cell_type": "code",
   "execution_count": 1,
   "id": "2d1e65cb",
   "metadata": {},
   "outputs": [
    {
     "data": {
      "text/plain": [
       "'gnirts'"
      ]
     },
     "execution_count": 1,
     "metadata": {},
     "output_type": "execute_result"
    }
   ],
   "source": [
    "a = \"string\"\n",
    "def rev(a):\n",
    "    res = ''\n",
    "    stack = []\n",
    "    for i in a:\n",
    "        stack.append(i)\n",
    "    while stack:\n",
    "        res = res + stack.pop()\n",
    "    return res\n",
    "rev(a)"
   ]
  },
  {
   "cell_type": "markdown",
   "id": "9e2734f0",
   "metadata": {},
   "source": [
    "## Implement Stack using Queue"
   ]
  },
  {
   "cell_type": "raw",
   "id": "f2bd5ccb",
   "metadata": {},
   "source": [
    " 1 2 3 4\n",
    " q1 = 4  3  2  1 ----> \n",
    " start pop and add to q2\n",
    " q2 = "
   ]
  },
  {
   "cell_type": "code",
   "execution_count": 7,
   "id": "2c91f40a",
   "metadata": {},
   "outputs": [
    {
     "name": "stdout",
     "output_type": "stream",
     "text": [
      "q2 deque([1])\n",
      "self.q1 deque([])\n",
      "q2 deque([2])\n",
      "self.q1 deque([1])\n",
      "q1 deque([1])\n",
      "1\n",
      "q22 deque([2, 1])\n",
      "q2 deque([3])\n",
      "self.q1 deque([2, 1])\n",
      "q1 deque([2, 1])\n",
      "2\n",
      "q22 deque([3, 2])\n",
      "q1 deque([1])\n",
      "1\n",
      "q22 deque([3, 2, 1])\n",
      "current size:  3\n",
      "3\n",
      "3\n",
      "2\n",
      "2\n",
      "1\n",
      "current size:  1\n"
     ]
    }
   ],
   "source": [
    "# Program to implement a stack using\n",
    "# two queue\n",
    "from _collections import deque\n",
    "\n",
    "\n",
    "class Stack:\n",
    "\n",
    "    def __init__(self):\n",
    "\n",
    "        # Two inbuilt queues\n",
    "        self.q1 = deque()\n",
    "        self.q2 = deque()\n",
    "\n",
    "    def push(self, x):\n",
    "\n",
    "        # Push x first in empty q2\n",
    "        self.q2.append(x)\n",
    "        print(\"q2\",self.q2)\n",
    "        print(\"self.q1\", self.q1)\n",
    "        # Push all the remaining\n",
    "        # elements in q1 to q2.\n",
    "        while (self.q1):\n",
    "            print(\"q1\", self.q1)\n",
    "            a = self.q1.popleft()\n",
    "            print(a)\n",
    "            self.q2.append(a)\n",
    "            print(\"q22\", self.q2)\n",
    "            \n",
    "\n",
    "        # swap the names of two queues\n",
    "        self.q1, self.q2 = self.q2, self.q1\n",
    "\n",
    "    def pop(self):\n",
    "\n",
    "        # if no elements are there in q1\n",
    "        if self.q1:\n",
    "            a = self.q1.popleft()\n",
    "            print(a)\n",
    "\n",
    "    def top(self):\n",
    "        if (self.q1):\n",
    "            return self.q1[0]\n",
    "        return None\n",
    "\n",
    "    def size(self):\n",
    "        return len(self.q1)\n",
    "\n",
    "\n",
    "# Driver Code\n",
    "if __name__ == '__main__':\n",
    "    s = Stack()\n",
    "    s.push(1)\n",
    "    s.push(2)\n",
    "    s.push(3)\n",
    "\n",
    "    print(\"current size: \", s.size())\n",
    "    print(s.top())\n",
    "    s.pop()\n",
    "    print(s.top())\n",
    "    s.pop()\n",
    "    print(s.top())\n",
    "\n",
    "    print(\"current size: \", s.size())\n",
    "\n",
    "# This code is contributed by PranchalK\n",
    "\n"
   ]
  },
  {
   "cell_type": "code",
   "execution_count": 22,
   "id": "15170a23",
   "metadata": {},
   "outputs": [
    {
     "data": {
      "text/plain": [
       "[-1, 25, 25, -1]"
      ]
     },
     "execution_count": 22,
     "metadata": {},
     "output_type": "execute_result"
    }
   ],
   "source": [
    "#arr = [4 , 5 , 2 , 25]\n",
    "arr = [30 , 5 , 2 , 25]\n",
    "n = len(arr)\n",
    "res = [-1]*n\n",
    "stack = []\n",
    "for i in range(n-1,-1,-1):\n",
    "    while stack and stack[-1]<=arr[i]:\n",
    "        stack.pop()\n",
    "    if stack:\n",
    "        res[i] = stack[-1]\n",
    "    \n",
    "    stack.append(arr[i])\n",
    "res"
   ]
  },
  {
   "cell_type": "markdown",
   "id": "f76b3b66",
   "metadata": {},
   "source": [
    "## DIJKSTRA'S"
   ]
  },
  {
   "cell_type": "raw",
   "id": "179231cc",
   "metadata": {},
   "source": [
    "1. shortest path from one vertex to another\n",
    "2. Ideally each node lablled as infinity\n",
    "3. Start node = 0\n",
    "4. There are two kind of nodes, explored and unexplored\n",
    "5. This algo is a two step process, which is:\n",
    "    - update estimates: update nodes which are connected with current node with min distance\n",
    "    - choose next vertex to explore: choose next vertex with smallest estimate\n",
    "    - add distance from start to curr node\n"
   ]
  },
  {
   "cell_type": "code",
   "execution_count": 1,
   "id": "39f9afde",
   "metadata": {},
   "outputs": [
    {
     "data": {
      "text/plain": [
       "{'A': inf, 'B': inf, 'C': inf, 'D': inf, 'E': inf}"
      ]
     },
     "execution_count": 1,
     "metadata": {},
     "output_type": "execute_result"
    }
   ],
   "source": [
    "airports = ['A', 'B', 'C', 'D', 'E']\n",
    "unexplored = {airport : float('inf') for airport in airports}\n",
    "unexplored"
   ]
  },
  {
   "cell_type": "code",
   "execution_count": 21,
   "id": "a0f59b80",
   "metadata": {},
   "outputs": [
    {
     "name": "stdout",
     "output_type": "stream",
     "text": [
      "('B', 'C')\n",
      "dict_items([(('A', 'B'), 4), (('A', 'C'), 2), (('B', 'C'), 1), (('B', 'D'), 2), (('C', 'D'), 4), (('C', 'E'), 5), (('E', 'D'), 1)])\n",
      "A\n",
      "A\n",
      "B\n",
      "B\n",
      "C\n",
      "C\n",
      "E\n"
     ]
    }
   ],
   "source": [
    "lines = {\n",
    "    ('A', 'B') : 4,\n",
    "    ('A', 'C') : 2,\n",
    "    ('B', 'C') : 1,\n",
    "    ('B', 'D') : 2,\n",
    "    ('C', 'D') : 4,\n",
    "    ('C', 'E') : 5,\n",
    "    ('E', 'D') : 1,\n",
    "}\n",
    "m = list(lines.keys())[0]\n",
    "for i in list(lines.keys())[1:]:\n",
    "    if lines[i] < lines[m]:\n",
    "        m = i\n",
    "print(m)\n",
    "print(lines.items())\n",
    "for i in lines.items():\n",
    "    print(i[0][0])"
   ]
  },
  {
   "cell_type": "code",
   "execution_count": 24,
   "id": "e75cc1a1",
   "metadata": {},
   "outputs": [
    {
     "data": {
      "text/plain": [
       "'A'"
      ]
     },
     "execution_count": 24,
     "metadata": {},
     "output_type": "execute_result"
    }
   ],
   "source": [
    "def minimum(dict):\n",
    "    min_key = list(dict.keys())[0]\n",
    "    for i in list(dict.keys())[1:]:\n",
    "        if dict[i] < dict[min_key]:\n",
    "            min_key = i\n",
    "    return(min_key)\n",
    "minimum(unexplored)"
   ]
  },
  {
   "cell_type": "code",
   "execution_count": 25,
   "id": "667304e1",
   "metadata": {},
   "outputs": [
    {
     "data": {
      "text/plain": [
       "5"
      ]
     },
     "execution_count": 25,
     "metadata": {},
     "output_type": "execute_result"
    }
   ],
   "source": [
    "def dijkstra(airports, lines, start, end):\n",
    "    unexplored = {airport : float('inf') for airport in airports}\n",
    "    unexplored[start] = 0\n",
    "    while len(unexplored) != 0:\n",
    "        explore = minimum(unexplored)\n",
    "        if explore == end:\n",
    "            break\n",
    "        else:\n",
    "            for path in lines.items():\n",
    "                if path[0][0] == explore:\n",
    "                    if path[0][1] in unexplored.keys():\n",
    "                        check_time = unexplored[path[0][0]] + path[1]\n",
    "                        if check_time < unexplored[path[0][1]]:\n",
    "                            unexplored[path[0][1]] = check_time\n",
    "                elif path[0][1] == explore:\n",
    "                    if path[0][0] in unexplored.keys():\n",
    "                        check_time = unexplored[path[0][1]] + path[1]\n",
    "                        if check_time < unexplored[path[0][0]]:\n",
    "                            unexplored[path[0][0]] = check_time\n",
    "            del unexplored[explore]\n",
    "\n",
    "    return(unexplored[explore])\n",
    "airports = ['A', 'B', 'C', 'D', 'E']\n",
    "lines = {\n",
    "    ('A', 'B') : 4,\n",
    "    ('A', 'C') : 2,\n",
    "    ('B', 'C') : 1,\n",
    "    ('B', 'D') : 2,\n",
    "    ('C', 'D') : 4,\n",
    "    ('C', 'E') : 5,\n",
    "    ('E', 'D') : 1,\n",
    "}\n",
    "start = 'A'\n",
    "end = 'D'\n",
    "\n",
    "dijkstra(airports, lines, start, end)"
   ]
  },
  {
   "cell_type": "markdown",
   "id": "2707213b",
   "metadata": {},
   "source": [
    "git "
   ]
  },
  {
   "cell_type": "code",
   "execution_count": null,
   "id": "bfa35ece",
   "metadata": {},
   "outputs": [],
   "source": []
  }
 ],
 "metadata": {
  "kernelspec": {
   "display_name": "Python 3 (ipykernel)",
   "language": "python",
   "name": "python3"
  },
  "language_info": {
   "codemirror_mode": {
    "name": "ipython",
    "version": 3
   },
   "file_extension": ".py",
   "mimetype": "text/x-python",
   "name": "python",
   "nbconvert_exporter": "python",
   "pygments_lexer": "ipython3",
   "version": "3.10.4"
  }
 },
 "nbformat": 4,
 "nbformat_minor": 5
}
