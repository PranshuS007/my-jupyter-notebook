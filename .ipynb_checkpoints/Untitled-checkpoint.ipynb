{
 "cells": [
  {
   "cell_type": "markdown",
   "id": "356673de",
   "metadata": {},
   "source": [
    "## MARK-DOWN"
   ]
  },
  {
   "cell_type": "code",
   "execution_count": 4,
   "id": "ff763150",
   "metadata": {},
   "outputs": [
    {
     "name": "stdout",
     "output_type": "stream",
     "text": [
      "[1, 2]\n"
     ]
    }
   ],
   "source": [
    "arr = [1,2,3,4,5]\n",
    "print(arr[:len(arr)//2])"
   ]
  },
  {
   "cell_type": "code",
   "execution_count": 16,
   "id": "00c41caa",
   "metadata": {},
   "outputs": [
    {
     "data": {
      "text/plain": [
       "[1, 2, 3, 2, 5, 6]"
      ]
     },
     "execution_count": 16,
     "metadata": {},
     "output_type": "execute_result"
    }
   ],
   "source": [
    "a = [1,2,3,0,0,0]\n",
    "a = a[:3]\n",
    "b = [2,5,6]\n",
    "a+b"
   ]
  },
  {
   "cell_type": "code",
   "execution_count": 13,
   "id": "8bd04081",
   "metadata": {},
   "outputs": [
    {
     "data": {
      "text/plain": [
       "0"
      ]
     },
     "execution_count": 13,
     "metadata": {},
     "output_type": "execute_result"
    }
   ],
   "source": [
    "b = []\n",
    "len(b)"
   ]
  },
  {
   "cell_type": "code",
   "execution_count": 15,
   "id": "502ed2b8",
   "metadata": {},
   "outputs": [
    {
     "data": {
      "text/plain": [
       "[1, 2, 3, 4, 5, 6]"
      ]
     },
     "execution_count": 15,
     "metadata": {},
     "output_type": "execute_result"
    }
   ],
   "source": [
    "a = [1,2,3]\n",
    "b = [4,5,6]\n",
    "a = a+b\n",
    "a"
   ]
  },
  {
   "cell_type": "code",
   "execution_count": 1,
   "id": "ce0ae7aa",
   "metadata": {},
   "outputs": [
    {
     "data": {
      "text/plain": [
       "[1, 2, 2, 3, 5, 7]"
      ]
     },
     "execution_count": 1,
     "metadata": {},
     "output_type": "execute_result"
    }
   ],
   "source": [
    "class Solution:\n",
    "    def sort(self,arr):\n",
    "        if len(arr) <= 1:\n",
    "            return arr\n",
    "        else:\n",
    "            left_arr = arr[:len(arr)//2]\n",
    "            right_arr = arr[len(arr)//2:]\n",
    "        \n",
    "        self.sort(left_arr)\n",
    "        self.sort(right_arr)\n",
    "        i = 0\n",
    "        j = 0\n",
    "        k = 0\n",
    "        while i < len(left_arr) and j < len(right_arr):\n",
    "            if left_arr[i] < right_arr[j]:\n",
    "                arr[k] = left_arr[i]\n",
    "                i = i + 1\n",
    "            else:\n",
    "                arr[k] = right_arr[j]\n",
    "                j = j + 1\n",
    "            k = k + 1\n",
    "        while i < len(left_arr):\n",
    "            arr[k] = left_arr[i]\n",
    "            i = i + 1\n",
    "            k = k + 1\n",
    "        while j < len(right_arr):\n",
    "            arr[k] = right_arr[j]\n",
    "            j = j + 1\n",
    "            k = k + 1\n",
    "        return arr\n",
    "\n",
    "\n",
    "    def merge(self, nums1,nums2):\n",
    "\n",
    "        m = 3\n",
    "        n = 3\n",
    "        if m == 1 and n == 0 :\n",
    "            return nums1\n",
    "        if n == 1 and m == 0 :\n",
    "            return nums2\n",
    "        nums1 = nums1[:m]\n",
    "        \n",
    "        nums1 = nums1 + nums2\n",
    "        \n",
    "        return self.sort(nums1)\n",
    "\n",
    "nums1 = [2,3,5,0,0,0]\n",
    "nums2 = [1,2,7]\n",
    "c = Solution()\n",
    "c.merge(nums1, nums2)\n"
   ]
  },
  {
   "cell_type": "code",
   "execution_count": 3,
   "id": "40d8e43a",
   "metadata": {},
   "outputs": [
    {
     "name": "stdout",
     "output_type": "stream",
     "text": [
      "[1, 2, 3, 2, 5, 6]\n"
     ]
    }
   ],
   "source": [
    "f1 = [1,2,3,0,0,0]\n",
    "f2 = [2,5,6]\n",
    "f1[:] = f1[:3]\n",
    "f1 = f1 + f2\n",
    "print(f1)"
   ]
  },
  {
   "cell_type": "code",
   "execution_count": 5,
   "id": "aa62da48",
   "metadata": {},
   "outputs": [
    {
     "data": {
      "text/plain": [
       "2"
      ]
     },
     "execution_count": 5,
     "metadata": {},
     "output_type": "execute_result"
    }
   ],
   "source": [
    "f1[3]"
   ]
  },
  {
   "cell_type": "markdown",
   "id": "b0226950",
   "metadata": {},
   "source": [
    "## LEETCODE 27 REMOVE ELEMENT"
   ]
  },
  {
   "cell_type": "code",
   "execution_count": 19,
   "id": "9f6aa6e9",
   "metadata": {},
   "outputs": [
    {
     "data": {
      "text/plain": [
       "5"
      ]
     },
     "execution_count": 19,
     "metadata": {},
     "output_type": "execute_result"
    }
   ],
   "source": [
    "def remove(nums, val):\n",
    "    j = 0\n",
    "    for i in nums:\n",
    "        if i != val:\n",
    "            nums[j] = i\n",
    "            j = j + 1\n",
    "    return j\n",
    "nums = [0,1,2,2,3,0,4,2]\n",
    "val = 2\n",
    "remove(nums, val)"
   ]
  },
  {
   "cell_type": "code",
   "execution_count": 9,
   "id": "d89533c9",
   "metadata": {},
   "outputs": [
    {
     "name": "stdout",
     "output_type": "stream",
     "text": [
      "8\n"
     ]
    }
   ],
   "source": [
    "print(len([0,1,2,2,3,0,4,2]))"
   ]
  },
  {
   "cell_type": "code",
   "execution_count": 27,
   "id": "6e1c9fac",
   "metadata": {},
   "outputs": [
    {
     "name": "stdout",
     "output_type": "stream",
     "text": [
      "(0, 0)\n",
      "(1, 1)\n",
      "(2, 2)\n",
      "(3, 3)\n"
     ]
    }
   ],
   "source": [
    "for i in enumerate([0,1,2,3]):\n",
    "    print(i)"
   ]
  },
  {
   "cell_type": "code",
   "execution_count": 25,
   "id": "a6e9f51e",
   "metadata": {},
   "outputs": [
    {
     "name": "stdout",
     "output_type": "stream",
     "text": [
      "0 A 1\n",
      "1 B 2\n",
      "2 C 3\n",
      "3 D 4\n"
     ]
    }
   ],
   "source": [
    "d = {'A': 1, 'B': 2, 'C': 3, 'D': 4}\n",
    "for i, (k,v) in enumerate(d.items()):\n",
    "    print(i,k,v)"
   ]
  },
  {
   "cell_type": "code",
   "execution_count": 26,
   "id": "81abf88c",
   "metadata": {},
   "outputs": [
    {
     "data": {
      "text/plain": [
       "dict_items([('A', 1), ('B', 2), ('C', 3), ('D', 4)])"
      ]
     },
     "execution_count": 26,
     "metadata": {},
     "output_type": "execute_result"
    }
   ],
   "source": [
    "d.items()"
   ]
  },
  {
   "cell_type": "code",
   "execution_count": 9,
   "id": "599fc061",
   "metadata": {},
   "outputs": [
    {
     "name": "stdout",
     "output_type": "stream",
     "text": [
      "0\n",
      "1\n",
      "2\n",
      "4\n",
      "5\n",
      "6\n",
      "7\n",
      "8\n"
     ]
    }
   ],
   "source": [
    "for i in range(9):\n",
    "    if i == 3:\n",
    "        continue\n",
    "    print(i)"
   ]
  },
  {
   "cell_type": "code",
   "execution_count": null,
   "id": "e1a937ee",
   "metadata": {},
   "outputs": [],
   "source": []
  },
  {
   "cell_type": "code",
   "execution_count": 33,
   "id": "efd97caa",
   "metadata": {},
   "outputs": [
    {
     "data": {
      "text/plain": [
       "5"
      ]
     },
     "execution_count": 33,
     "metadata": {},
     "output_type": "execute_result"
    }
   ],
   "source": [
    "def remove(nums):\n",
    "    k = 1\n",
    "    i = 0\n",
    "    j = 1\n",
    "    while j < len(nums) and i < j:\n",
    "        if nums[i] != nums[j]:\n",
    "            k= k+1\n",
    "            nums[k-1]=nums[j]\n",
    "        i = i + 1\n",
    "        j = j + 1\n",
    "    return k\n",
    "nums = [0,0,1,1,1,2,2,3,3,4]\n",
    "remove(nums)"
   ]
  },
  {
   "cell_type": "code",
   "execution_count": 1,
   "id": "d27aed5f",
   "metadata": {},
   "outputs": [
    {
     "data": {
      "text/plain": [
       "[0, 1, 2, 3, 4]"
      ]
     },
     "execution_count": 1,
     "metadata": {},
     "output_type": "execute_result"
    }
   ],
   "source": [
    "def remove(nums):\n",
    "    k = 1\n",
    "    i = 0\n",
    "    j = 1\n",
    "    while j < len(nums) and i < j:\n",
    "        if nums[i] != nums[j]:\n",
    "            k= k+1\n",
    "        i = i + 1\n",
    "        j = j + 1\n",
    "        nums[k-1] = nums[i]\n",
    "    return nums[:k]\n",
    "nums = [0,0,1,1,1,2,2,3,3,4]\n",
    "remove(nums)"
   ]
  },
  {
   "cell_type": "code",
   "execution_count": 2,
   "id": "3c8fa026",
   "metadata": {},
   "outputs": [
    {
     "name": "stdout",
     "output_type": "stream",
     "text": [
      "{0: 3, 1: 2, 2: 3}\n"
     ]
    }
   ],
   "source": [
    "d = {0:3, 1:2, 2:3}\n",
    "print(d)"
   ]
  },
  {
   "cell_type": "code",
   "execution_count": 15,
   "id": "2b93957d",
   "metadata": {},
   "outputs": [
    {
     "name": "stdout",
     "output_type": "stream",
     "text": [
      "0\n",
      "2\n"
     ]
    }
   ],
   "source": [
    "for i,j in d.items():\n",
    "    if j ==3:\n",
    "        print(i)"
   ]
  },
  {
   "cell_type": "code",
   "execution_count": 24,
   "id": "a868237d",
   "metadata": {},
   "outputs": [
    {
     "name": "stdout",
     "output_type": "stream",
     "text": [
      "{0: 3}\n"
     ]
    }
   ],
   "source": [
    "e = [3,2,3]\n",
    "f = {0: val for val in e}\n",
    "print(f)"
   ]
  },
  {
   "cell_type": "code",
   "execution_count": 25,
   "id": "feaec4b2",
   "metadata": {},
   "outputs": [
    {
     "data": {
      "text/plain": [
       "[3, 2]"
      ]
     },
     "execution_count": 25,
     "metadata": {},
     "output_type": "execute_result"
    }
   ],
   "source": [
    "a = []\n",
    "for i in e:\n",
    "    if i in a:\n",
    "        continue\n",
    "    a.append(i)\n",
    "a"
   ]
  },
  {
   "cell_type": "code",
   "execution_count": 32,
   "id": "19b001ef",
   "metadata": {},
   "outputs": [
    {
     "name": "stdout",
     "output_type": "stream",
     "text": [
      "1\n",
      "{3: 1}\n",
      "{3: 1, 2: 1}\n",
      "{3: 2, 2: 1}\n",
      "3\n"
     ]
    }
   ],
   "source": [
    "b = {}\n",
    "m = len(e)//2\n",
    "print(m)\n",
    "for i in e:\n",
    "    if i in b:\n",
    "        b[i] +=1\n",
    "    else:\n",
    "        b[i] = 1\n",
    "    print(b)\n",
    "for i,j in b.items():\n",
    "    if j > m:\n",
    "        print(i)"
   ]
  },
  {
   "cell_type": "code",
   "execution_count": 35,
   "id": "ab65bf91",
   "metadata": {},
   "outputs": [
    {
     "data": {
      "text/plain": [
       "2"
      ]
     },
     "execution_count": 35,
     "metadata": {},
     "output_type": "execute_result"
    }
   ],
   "source": [
    "10 >> 2"
   ]
  },
  {
   "cell_type": "code",
   "execution_count": 36,
   "id": "b651a609",
   "metadata": {},
   "outputs": [
    {
     "data": {
      "text/plain": [
       "[0, 1, 1, 2]"
      ]
     },
     "execution_count": 36,
     "metadata": {},
     "output_type": "execute_result"
    }
   ],
   "source": [
    "[x >> 1 for x in [1,2,3,4]]"
   ]
  },
  {
   "cell_type": "code",
   "execution_count": 39,
   "id": "f64cca51",
   "metadata": {},
   "outputs": [
    {
     "data": {
      "text/plain": [
       "0"
      ]
     },
     "execution_count": 39,
     "metadata": {},
     "output_type": "execute_result"
    }
   ],
   "source": [
    "1>>1"
   ]
  },
  {
   "cell_type": "code",
   "execution_count": 42,
   "id": "fcf1b655",
   "metadata": {},
   "outputs": [
    {
     "ename": "SyntaxError",
     "evalue": "invalid syntax (3250531782.py, line 1)",
     "output_type": "error",
     "traceback": [
      "\u001b[1;36m  Input \u001b[1;32mIn [42]\u001b[1;36m\u001b[0m\n\u001b[1;33m    [1,2,3] -> [3,1,2]\u001b[0m\n\u001b[1;37m            ^\u001b[0m\n\u001b[1;31mSyntaxError\u001b[0m\u001b[1;31m:\u001b[0m invalid syntax\n"
     ]
    }
   ],
   "source": [
    "[1,2,3] -> [3,1,2] \n",
    "0\n",
    "0 -> 1 \n",
    "1 -> 2\n",
    "2 -> 0 [len(ls) -1 == 0]"
   ]
  },
  {
   "cell_type": "markdown",
   "id": "bab323eb",
   "metadata": {},
   "source": [
    "## ROTATE ELEMENT 186"
   ]
  },
  {
   "cell_type": "code",
   "execution_count": 49,
   "id": "1f3261ff",
   "metadata": {},
   "outputs": [
    {
     "data": {
      "text/plain": [
       "[4, 5, 6, 7, 1, 2, 3]"
      ]
     },
     "execution_count": 49,
     "metadata": {},
     "output_type": "execute_result"
    }
   ],
   "source": [
    "def rotate_left(nums,k):\n",
    "    return nums[k:len(nums)+1] + nums[0:k]\n",
    "nums = [1,2,3,4,5,6,7]\n",
    "k = 3\n",
    "rotate(nums,k)"
   ]
  },
  {
   "cell_type": "code",
   "execution_count": 83,
   "id": "abb1e01c",
   "metadata": {},
   "outputs": [
    {
     "data": {
      "text/plain": [
       "[2, 3, 1]"
      ]
     },
     "execution_count": 83,
     "metadata": {},
     "output_type": "execute_result"
    }
   ],
   "source": [
    "def rotate_right(nums,k):\n",
    "    if k == 0:\n",
    "            nums[:] = nums\n",
    "    else:\n",
    "        if len(nums) > k:\n",
    "            g = len(nums) - k\n",
    "        else:\n",
    "            g = k - len(nums)\n",
    "        return nums[g:] + nums[0:g]\n",
    "    #return nums[k+1:len(nums)+1] + nums[0:k+1]\n",
    "nums = [1,2,3]\n",
    "k = 4\n",
    "rotate_right(nums,k)"
   ]
  },
  {
   "cell_type": "code",
   "execution_count": 63,
   "id": "28cc36ab",
   "metadata": {},
   "outputs": [
    {
     "data": {
      "text/plain": [
       "[2, 1]"
      ]
     },
     "execution_count": 63,
     "metadata": {},
     "output_type": "execute_result"
    }
   ],
   "source": [
    "n = [1,2]\n"
   ]
  },
  {
   "cell_type": "code",
   "execution_count": 82,
   "id": "cf4877d9",
   "metadata": {},
   "outputs": [
    {
     "data": {
      "text/plain": [
       "[2, 3]"
      ]
     },
     "execution_count": 82,
     "metadata": {},
     "output_type": "execute_result"
    }
   ],
   "source": [
    "b = [1,2,3]\n"
   ]
  },
  {
   "cell_type": "markdown",
   "id": "06b0267b",
   "metadata": {},
   "source": [
    "## counter of elemt in list into dict"
   ]
  },
  {
   "cell_type": "code",
   "execution_count": 11,
   "id": "9158fea8",
   "metadata": {},
   "outputs": [
    {
     "name": "stdout",
     "output_type": "stream",
     "text": [
      "{1: 1, 2: 2, 3: 4, 4: 1}\n"
     ]
    }
   ],
   "source": [
    "l = [1,2,2,3,3,3,3,4]\n",
    "d ={}\n",
    "for i in l:\n",
    "    d[i] = d.get(i,0)+1\n"
   ]
  },
  {
   "cell_type": "code",
   "execution_count": 9,
   "id": "526095fa",
   "metadata": {},
   "outputs": [
    {
     "name": "stdout",
     "output_type": "stream",
     "text": [
      "before {}\n",
      "after {'tango': 1}\n",
      "before {'tango': 1}\n",
      "after {'tango': 1, 'bravo': 1}\n",
      "before {'tango': 1, 'bravo': 1}\n",
      "after {'tango': 2, 'bravo': 1}\n",
      "before {'tango': 2, 'bravo': 1}\n",
      "after {'tango': 2, 'bravo': 1, 'alpha': 1}\n",
      "before {'tango': 2, 'bravo': 1, 'alpha': 1}\n",
      "after {'tango': 2, 'bravo': 1, 'alpha': 2}\n",
      "{'tango': 2, 'bravo': 1, 'alpha': 2}\n"
     ]
    }
   ],
   "source": [
    "names = ['tango', 'bravo', 'tango', 'alpha', 'alpha']\n",
    "d ={}\n",
    "for i in names:\n",
    "    print(\"before\",d)\n",
    "    d[i]=d.get(i,0)+1\n",
    "    print(\"after\",d)\n",
    "print(d)\n",
    "    "
   ]
  },
  {
   "cell_type": "markdown",
   "id": "ec6e0a4c",
   "metadata": {},
   "source": [
    "### 55 Jump Game"
   ]
  },
  {
   "cell_type": "code",
   "execution_count": 1,
   "id": "58b4df05",
   "metadata": {},
   "outputs": [
    {
     "name": "stdout",
     "output_type": "stream",
     "text": [
      "0\n",
      "1\n",
      "2\n"
     ]
    }
   ],
   "source": [
    "for j in range(3):\n",
    "    print(j)"
   ]
  },
  {
   "cell_type": "code",
   "execution_count": 29,
   "id": "ea3c2159",
   "metadata": {},
   "outputs": [
    {
     "data": {
      "text/plain": [
       "True"
      ]
     },
     "execution_count": 29,
     "metadata": {},
     "output_type": "execute_result"
    }
   ],
   "source": [
    "nums = [3,2,1,0,4]\n",
    "###############    WR   OO  NN  GGG   ##############\n",
    "\n",
    "def jump_game(nums):\n",
    "    i = 0\n",
    "    while i < len(nums):\n",
    "        for j in range(nums[i]+i+1):\n",
    "            if i+j >=len(nums)-1:\n",
    "                return True\n",
    "\n",
    "        if nums[i]+i != len(nums)-1:\n",
    "                i = i + nums[i]\n",
    "        else:\n",
    "            return False\n",
    "        \n",
    "jump_game(nums)\n"
   ]
  },
  {
   "cell_type": "code",
   "execution_count": 32,
   "id": "159e09e9",
   "metadata": {},
   "outputs": [
    {
     "data": {
      "text/plain": [
       "False"
      ]
     },
     "execution_count": 32,
     "metadata": {},
     "output_type": "execute_result"
    }
   ],
   "source": [
    "def jumps(nums):\n",
    "    max_jump = 0\n",
    "    \n",
    "    for i in range(len(nums)):\n",
    "        if i > max_jump:\n",
    "            return False\n",
    "        max_jump = max(i+nums[i], max_jump)\n",
    "        if max_jump >= len(nums)-1:\n",
    "            return True\n",
    "nums = [3,2,1,0,4]\n",
    "jumps(nums)"
   ]
  },
  {
   "cell_type": "markdown",
   "id": "66c41ce3",
   "metadata": {},
   "source": [
    "## MIN JUMP 45"
   ]
  },
  {
   "cell_type": "code",
   "execution_count": 43,
   "id": "a2c96eb0",
   "metadata": {},
   "outputs": [
    {
     "data": {
      "text/plain": [
       "5"
      ]
     },
     "execution_count": 43,
     "metadata": {},
     "output_type": "execute_result"
    }
   ],
   "source": [
    "def jumps_2(nums):\n",
    "    max_jump = 0\n",
    "    min_hop = float('inf')\n",
    "    for i in range(len(nums)):\n",
    "        if i > max_jump:\n",
    "            return False\n",
    "        max_jump = max(i+nums[i], max_jump)\n",
    "        if max_jump >= len(nums)-1:\n",
    "            return max_jump\n",
    "             \n",
    "nums = [2,3,3,1,4,1]\n",
    "jumps_2(nums)"
   ]
  },
  {
   "cell_type": "code",
   "execution_count": 58,
   "id": "829e6795",
   "metadata": {},
   "outputs": [
    {
     "name": "stdout",
     "output_type": "stream",
     "text": [
      "2\n",
      "4\n",
      "4\n",
      "4\n",
      "4\n",
      "4\n",
      "4\n",
      "4\n",
      "4\n",
      "4\n",
      "4\n"
     ]
    }
   ],
   "source": [
    "b = [2,3,0,1,4,1]\n",
    "t = -float('inf')\n",
    "hop = 1\n",
    "for i in range(len(b)):\n",
    "    for j in range(b[i]):\n",
    "        t = max(t,b[j]+j)\n",
    "        print(t)\n",
    "if t >= len(b)-1:\n",
    "    hop = hop+1\n",
    "    print(hop)\n",
    "    \n",
    "    "
   ]
  },
  {
   "cell_type": "markdown",
   "id": "59e80891",
   "metadata": {},
   "source": [
    "## Leetocde 121"
   ]
  },
  {
   "cell_type": "code",
   "execution_count": 15,
   "id": "aaaf0d6b",
   "metadata": {},
   "outputs": [
    {
     "data": {
      "text/plain": [
       "0"
      ]
     },
     "execution_count": 15,
     "metadata": {},
     "output_type": "execute_result"
    }
   ],
   "source": [
    "def maxProfit(prices):\n",
    "    i = 0\n",
    "    \n",
    "    profit = 0\n",
    "    while i<len(prices):\n",
    "        for j in range(i,len(prices)):\n",
    "            diff = prices[j]-prices[i]\n",
    "            profit = max(diff, profit)\n",
    "        i = i + 1  \n",
    "    return profit\n",
    "         \n",
    "maxProfit([7,6,4,3,1])"
   ]
  },
  {
   "cell_type": "code",
   "execution_count": 18,
   "id": "e21da1fc",
   "metadata": {},
   "outputs": [
    {
     "data": {
      "text/plain": [
       "0"
      ]
     },
     "execution_count": 18,
     "metadata": {},
     "output_type": "execute_result"
    }
   ],
   "source": [
    "def max_profit1(prices):\n",
    "    min_price = prices[0]\n",
    "    max_profit = 0\n",
    "    \n",
    "    for i in prices:\n",
    "        min_price = min(min_price, i)\n",
    "        max_profit = max(max_profit, i - min_price)\n",
    "    return max_profit\n",
    "max_profit1([7,6,4,3,1])"
   ]
  },
  {
   "cell_type": "markdown",
   "id": "59addab3",
   "metadata": {},
   "source": [
    "### LEETCODE 58"
   ]
  },
  {
   "cell_type": "code",
   "execution_count": 37,
   "id": "af34aa22",
   "metadata": {},
   "outputs": [
    {
     "name": "stdout",
     "output_type": "stream",
     "text": [
      "World\n",
      "H\n",
      "e\n",
      "l\n",
      "l\n",
      "o\n",
      ",\n",
      "W\n",
      "o\n",
      "r\n",
      "l\n",
      "d\n"
     ]
    }
   ],
   "source": [
    "s = \"Hello World\"\n",
    "d = s.strip()\n",
    "e = d.split() #split creates list\n",
    "print(e[-1])\n",
    "a = ','.join(e)\n",
    "for i in a:\n",
    "    print(i)"
   ]
  },
  {
   "cell_type": "code",
   "execution_count": 15,
   "id": "97fcde68",
   "metadata": {},
   "outputs": [
    {
     "data": {
      "text/plain": [
       "[5, 4, 3, 2, 1]"
      ]
     },
     "execution_count": 15,
     "metadata": {},
     "output_type": "execute_result"
    }
   ],
   "source": [
    "x = [1,2,3,4,5]\n",
    "x[::]"
   ]
  },
  {
   "cell_type": "code",
   "execution_count": 35,
   "id": "a3134650",
   "metadata": {},
   "outputs": [
    {
     "data": {
      "text/plain": [
       "'w'"
      ]
     },
     "execution_count": 35,
     "metadata": {},
     "output_type": "execute_result"
    }
   ],
   "source": [
    "q = 'windows ,laptop'\n",
    "q[0]"
   ]
  },
  {
   "cell_type": "code",
   "execution_count": 46,
   "id": "a5a84423",
   "metadata": {},
   "outputs": [
    {
     "name": "stdout",
     "output_type": "stream",
     "text": [
      "fly me   to   the moon\n",
      "22\n",
      "moon\n"
     ]
    },
    {
     "data": {
      "text/plain": [
       "4"
      ]
     },
     "execution_count": 46,
     "metadata": {},
     "output_type": "execute_result"
    }
   ],
   "source": [
    "a = \"   fly me   to   the moon  \"\n",
    "d = a.strip()\n",
    "print(d)\n",
    "print(len(d))\n",
    "s = d.split()[-1]\n",
    "print(s)\n",
    "len(s)"
   ]
  },
  {
   "cell_type": "code",
   "execution_count": 51,
   "id": "965556d8",
   "metadata": {},
   "outputs": [
    {
     "name": "stdout",
     "output_type": "stream",
     "text": [
      "4\n"
     ]
    }
   ],
   "source": [
    "a = \"   fly me   to   the moon  \"\n",
    "d = a.strip()\n",
    "j = len(d)-1\n",
    "l = 0\n",
    "while j >= 0:\n",
    "    if d[j] !=' ':  # ''->empty string, ' '-> whitespace\n",
    "        l = l + 1\n",
    "    else:\n",
    "        break\n",
    "    j = j-1\n",
    "print(l)"
   ]
  },
  {
   "cell_type": "markdown",
   "id": "a9d9aeb1",
   "metadata": {},
   "source": [
    "## LEETCODE 14"
   ]
  },
  {
   "cell_type": "code",
   "execution_count": 57,
   "id": "c737398b",
   "metadata": {},
   "outputs": [
    {
     "data": {
      "text/plain": [
       "0"
      ]
     },
     "execution_count": 57,
     "metadata": {},
     "output_type": "execute_result"
    }
   ],
   "source": [
    "1 & 2"
   ]
  },
  {
   "cell_type": "code",
   "execution_count": 59,
   "id": "8ee7e991",
   "metadata": {},
   "outputs": [
    {
     "name": "stdout",
     "output_type": "stream",
     "text": [
      "011000"
     ]
    }
   ],
   "source": [
    "## FindingBinary \n",
    "def binary(num):\n",
    "    if num > 0:\n",
    "        binary(num//2)\n",
    "    print(num%2, end='')\n",
    "num = 24\n",
    "binary(num)"
   ]
  },
  {
   "cell_type": "code",
   "execution_count": 63,
   "id": "83cd4cf9",
   "metadata": {},
   "outputs": [
    {
     "data": {
      "text/plain": [
       "'a'"
      ]
     },
     "execution_count": 63,
     "metadata": {},
     "output_type": "execute_result"
    }
   ],
   "source": [
    "ch = 'A'\n",
    "chr(ord(ch)|32)"
   ]
  },
  {
   "cell_type": "code",
   "execution_count": 64,
   "id": "f8faa5fc",
   "metadata": {},
   "outputs": [
    {
     "data": {
      "text/plain": [
       "7"
      ]
     },
     "execution_count": 64,
     "metadata": {},
     "output_type": "execute_result"
    }
   ],
   "source": [
    "5|3"
   ]
  },
  {
   "cell_type": "code",
   "execution_count": 65,
   "id": "c55b6db5",
   "metadata": {},
   "outputs": [
    {
     "data": {
      "text/plain": [
       "1"
      ]
     },
     "execution_count": 65,
     "metadata": {},
     "output_type": "execute_result"
    }
   ],
   "source": [
    "2^3"
   ]
  },
  {
   "cell_type": "code",
   "execution_count": 66,
   "id": "86ebd32c",
   "metadata": {},
   "outputs": [
    {
     "data": {
      "text/plain": [
       "3"
      ]
     },
     "execution_count": 66,
     "metadata": {},
     "output_type": "execute_result"
    }
   ],
   "source": [
    "2^1"
   ]
  },
  {
   "cell_type": "code",
   "execution_count": 71,
   "id": "94ec2f81",
   "metadata": {},
   "outputs": [
    {
     "data": {
      "text/plain": [
       "6"
      ]
     },
     "execution_count": 71,
     "metadata": {},
     "output_type": "execute_result"
    }
   ],
   "source": [
    "4^2"
   ]
  },
  {
   "cell_type": "code",
   "execution_count": 84,
   "id": "2494319d",
   "metadata": {},
   "outputs": [
    {
     "data": {
      "text/plain": [
       "12"
      ]
     },
     "execution_count": 84,
     "metadata": {},
     "output_type": "execute_result"
    }
   ],
   "source": [
    "10^6"
   ]
  },
  {
   "cell_type": "code",
   "execution_count": 96,
   "id": "f4b816ba",
   "metadata": {},
   "outputs": [
    {
     "data": {
      "text/plain": [
       "0"
      ]
     },
     "execution_count": 96,
     "metadata": {},
     "output_type": "execute_result"
    }
   ],
   "source": [
    "20 & 3"
   ]
  },
  {
   "cell_type": "code",
   "execution_count": 70,
   "id": "5d12c336",
   "metadata": {},
   "outputs": [
    {
     "data": {
      "text/plain": [
       "3"
      ]
     },
     "execution_count": 70,
     "metadata": {},
     "output_type": "execute_result"
    }
   ],
   "source": [
    "3^0"
   ]
  },
  {
   "cell_type": "code",
   "execution_count": 100,
   "id": "b7b87dc2",
   "metadata": {},
   "outputs": [
    {
     "data": {
      "text/plain": [
       "5"
      ]
     },
     "execution_count": 100,
     "metadata": {},
     "output_type": "execute_result"
    }
   ],
   "source": [
    "20>>2"
   ]
  },
  {
   "cell_type": "code",
   "execution_count": 120,
   "id": "c8214142",
   "metadata": {},
   "outputs": [
    {
     "data": {
      "text/plain": [
       "'a'"
      ]
     },
     "execution_count": 120,
     "metadata": {},
     "output_type": "execute_result"
    }
   ],
   "source": [
    "s = [\"a\"]\n",
    "def comm(strs):\n",
    "    res = ''\n",
    "    for i in range(len(strs[0])):\n",
    "        for j in range(1,len(strs)):\n",
    "            if i >= len(strs[j]) or strs[0][i] != strs[j][i]:    #i character of first strinng compared with ith correcter of every elements\n",
    "                return res\n",
    "        res = res+strs[0][i]\n",
    "    return res\n",
    "comm(s)"
   ]
  },
  {
   "cell_type": "code",
   "execution_count": 117,
   "id": "ea0ca235",
   "metadata": {},
   "outputs": [
    {
     "name": "stdout",
     "output_type": "stream",
     "text": [
      "flow\n",
      "flight\n"
     ]
    }
   ],
   "source": [
    "s = [\"flower\",\"flow\",\"flight\"]\n",
    "for j in s[1:]:\n",
    "    print(j)"
   ]
  },
  {
   "cell_type": "markdown",
   "id": "726e133b",
   "metadata": {},
   "source": [
    "## LEETCODE 28"
   ]
  },
  {
   "cell_type": "code",
   "execution_count": null,
   "id": "c1ea0997",
   "metadata": {},
   "outputs": [],
   "source": [
    "# haystack = \"sadbutsad\", needle = \"sad\"\n",
    "\n",
    "def need(h,n):\n",
    "    "
   ]
  },
  {
   "cell_type": "code",
   "execution_count": 19,
   "id": "e21182e6",
   "metadata": {},
   "outputs": [
    {
     "name": "stdout",
     "output_type": "stream",
     "text": [
      "4\n"
     ]
    }
   ],
   "source": [
    "haystack = \"mississippi\"\n",
    "needle = \"issip\"\n",
    "\n",
    "for i in range(len(haystack) - len(needle) + 1):\n",
    "    if haystack[i:i+len(needle)] == needle:\n",
    "        print(i)\n",
    "        "
   ]
  },
  {
   "cell_type": "code",
   "execution_count": 21,
   "id": "6ce5da80",
   "metadata": {},
   "outputs": [
    {
     "data": {
      "text/plain": [
       "(11, 5)"
      ]
     },
     "execution_count": 21,
     "metadata": {},
     "output_type": "execute_result"
    }
   ],
   "source": [
    "len(haystack), len(needle)"
   ]
  },
  {
   "cell_type": "markdown",
   "id": "e53332aa",
   "metadata": {},
   "source": [
    "## Leetcode 13"
   ]
  },
  {
   "cell_type": "code",
   "execution_count": 22,
   "id": "b2a72f79",
   "metadata": {},
   "outputs": [
    {
     "name": "stdout",
     "output_type": "stream",
     "text": [
      "I\n",
      "I\n",
      "I\n"
     ]
    }
   ],
   "source": [
    "s = 'III'\n",
    "for i in s:\n",
    "    print(i)"
   ]
  },
  {
   "cell_type": "code",
   "execution_count": 39,
   "id": "c8610da6",
   "metadata": {},
   "outputs": [
    {
     "data": {
      "text/plain": [
       "1994"
      ]
     },
     "execution_count": 39,
     "metadata": {},
     "output_type": "execute_result"
    }
   ],
   "source": [
    "def rom(s):\n",
    "    vals = {\n",
    "            'I': 1,\n",
    "            'V': 5,\n",
    "            'X': 10,\n",
    "            'L': 50,\n",
    "            'C':100,\n",
    "            'D':500,\n",
    "            'M':1000,\n",
    "        }\n",
    "    \n",
    "    if s == 0:\n",
    "        return 0\n",
    "    add = 0\n",
    "    for i in range(len(s)):\n",
    "        if i < len(s)-1 and vals[s[i]] < vals[s[i+1]]:\n",
    "            add = add - vals[s[i]]\n",
    "        else:\n",
    "            add = add + vals[s[i]]\n",
    "\n",
    "            \n",
    "    return add\n",
    "s = \"MCMXCIV\"\n",
    "rom(s)"
   ]
  },
  {
   "cell_type": "code",
   "execution_count": 32,
   "id": "f13fa625",
   "metadata": {},
   "outputs": [
    {
     "data": {
      "text/plain": [
       "'M'"
      ]
     },
     "execution_count": 32,
     "metadata": {},
     "output_type": "execute_result"
    }
   ],
   "source": [
    "f = \"MCMXCIV\"\n",
    "f[0]"
   ]
  },
  {
   "cell_type": "markdown",
   "id": "d6a35bf4",
   "metadata": {},
   "source": [
    "## Leetcode 134"
   ]
  },
  {
   "cell_type": "code",
   "execution_count": 3,
   "id": "4b624f80",
   "metadata": {},
   "outputs": [],
   "source": [
    "# f = [1,2,3,4,5]\n",
    "# l = len(f)\n",
    "# i = 0\n",
    "# while True:\n",
    "#     print(f[i])\n",
    "#     i = (i + 1)%l"
   ]
  },
  {
   "cell_type": "code",
   "execution_count": 14,
   "id": "5b5eb07f",
   "metadata": {},
   "outputs": [
    {
     "name": "stdout",
     "output_type": "stream",
     "text": [
      "3\n",
      "[4, 5, 1, 2, 3, 4] [1, 2, 3, 4, 5, 1]\n"
     ]
    }
   ],
   "source": [
    "gas = [1,2,3,4,5]\n",
    "cost = [3,4,5,1,2]\n",
    "def canComplete(gas,cost):\n",
    "    i = 0\n",
    "    j = 0\n",
    "    while i < len(gas) and j < len(cost):\n",
    "        if gas[i] > cost[j]:\n",
    "            start = i\n",
    "            break\n",
    "        i = i + 1\n",
    "        j = j + 1\n",
    "    print(start)\n",
    "    gas1 = gas[start:] + gas[:start+1]\n",
    "    cost1 = cost[start:] + cost[:start+1]\n",
    "    print(gas1, cost1)\n",
    "    a = 0\n",
    "    b = 0\n",
    "    while a < len(gas1) and j < len(cost1):\n",
    "        if gas1[i]>cost1[j]:\n",
    "            gas1[i+1] = gas1[i] - cost1[j] + gas1[i+1] \n",
    "canComplete(gas,cost)"
   ]
  },
  {
   "cell_type": "markdown",
   "id": "0ccef1d1",
   "metadata": {},
   "source": [
    "## Leetcode 70"
   ]
  },
  {
   "cell_type": "code",
   "execution_count": 11,
   "id": "db954caa",
   "metadata": {},
   "outputs": [
    {
     "name": "stdout",
     "output_type": "stream",
     "text": [
      "[0, 0, 0, 0, 1, 1]\n",
      "8\n"
     ]
    }
   ],
   "source": [
    "n = 5\n",
    "dp = [0 for i in range(n+1)]\n",
    "l = len(dp)\n",
    "dp[l-1] = 1\n",
    "dp[l-2] = 1\n",
    "print(dp)\n",
    "for i in range(l-3,-1,-1):\n",
    "    dp[i] = dp[i+1]+dp[i+2]\n",
    "print(dp[0])\n",
    "    "
   ]
  },
  {
   "cell_type": "code",
   "execution_count": 12,
   "id": "1f3db696",
   "metadata": {},
   "outputs": [
    {
     "data": {
      "text/plain": [
       "8"
      ]
     },
     "execution_count": 12,
     "metadata": {},
     "output_type": "execute_result"
    }
   ],
   "source": [
    "def climb(n):\n",
    "    if n<=2:\n",
    "        return n\n",
    "    prev = 1\n",
    "    curr = 2\n",
    "    for _ in range(3,n+1):\n",
    "        next_step = prev+curr\n",
    "        prev = curr\n",
    "        curr = next_step\n",
    "    return curr\n",
    "climb(5)"
   ]
  },
  {
   "cell_type": "markdown",
   "id": "a3406233",
   "metadata": {},
   "source": [
    "## Leetcode 746"
   ]
  },
  {
   "cell_type": "code",
   "execution_count": 40,
   "id": "233daab7",
   "metadata": {},
   "outputs": [
    {
     "name": "stdout",
     "output_type": "stream",
     "text": [
      "[0, 0, 0, 0, 0, 0, 0, 0, 0, 1, 0]\n",
      "[0, 0, 0, 0, 0, 0, 0, 0, 100, 1, 0]\n",
      "[0, 0, 0, 0, 0, 0, 0, 2, 100, 1, 0]\n",
      "[0, 0, 0, 0, 0, 0, 3, 2, 100, 1, 0]\n",
      "[0, 0, 0, 0, 0, 102, 3, 2, 100, 1, 0]\n",
      "[0, 0, 0, 0, 4, 102, 3, 2, 100, 1, 0]\n",
      "[0, 0, 0, 5, 4, 102, 3, 2, 100, 1, 0]\n",
      "[0, 0, 5, 5, 4, 102, 3, 2, 100, 1, 0]\n",
      "[0, 105, 5, 5, 4, 102, 3, 2, 100, 1, 0]\n",
      "[6, 105, 5, 5, 4, 102, 3, 2, 100, 1, 0]\n"
     ]
    },
    {
     "data": {
      "text/plain": [
       "6"
      ]
     },
     "execution_count": 40,
     "metadata": {},
     "output_type": "execute_result"
    }
   ],
   "source": [
    "cost = [1,100,1,1,1,100,1,1,100,1]\n",
    "#dp = [0,0,0,0]\n",
    "def mincost(cost):\n",
    "    dp = [0 for _ in range(len(cost)+1)]\n",
    "    i = len(cost)-1\n",
    "    j = len(dp) -2\n",
    "    while i >= 0 and j >=0:\n",
    "        \n",
    "        dp[j] = min(cost[i] + dp[j+1], cost[i] + dp[j+2]) if j+2 < len(dp)-1 else cost[i]\n",
    "        i = i -1\n",
    "        j = j -1\n",
    "        print(dp)\n",
    "    return min(dp[0], dp[1])\n",
    "mincost(cost)"
   ]
  },
  {
   "cell_type": "code",
   "execution_count": 38,
   "id": "dd127dcf",
   "metadata": {},
   "outputs": [
    {
     "data": {
      "text/plain": [
       "[6, 105, 5, 5, 4, 102, 3, 2, 100, 1]"
      ]
     },
     "execution_count": 38,
     "metadata": {},
     "output_type": "execute_result"
    }
   ],
   "source": [
    "cost = [1,100,1,1,1,100,1,1,100,1]\n",
    "def mincost1(cost):\n",
    "    for i in range(len(cost)-3,-1,-1):\n",
    "        cost[i] = min(cost[i]+cost[i+1], cost[i]+cost[i+2])\n",
    "    return cost\n",
    "mincost1(cost)\n",
    "    "
   ]
  },
  {
   "cell_type": "markdown",
   "id": "c5e72576",
   "metadata": {},
   "source": [
    "### LEETCODE 198"
   ]
  },
  {
   "cell_type": "code",
   "execution_count": 53,
   "id": "9caf1a65",
   "metadata": {},
   "outputs": [
    {
     "name": "stdout",
     "output_type": "stream",
     "text": [
      "[2, 1, 3, 0]\n",
      "[2, 1, 3, 3]\n"
     ]
    },
    {
     "data": {
      "text/plain": [
       "3"
      ]
     },
     "execution_count": 53,
     "metadata": {},
     "output_type": "execute_result"
    }
   ],
   "source": [
    "nums = [2,1,1,2]\n",
    "dp = [0 for _ in range(len(nums))]\n",
    "#  [2,7,0,0,0]\n",
    "def robber(nums):\n",
    "    dp[0] = nums[0]\n",
    "    dp[1] = nums[1]\n",
    "    for i in range(2, len(dp)):\n",
    "        dp[i] = max(nums[i] + dp[i-2], nums[i])\n",
    "        print(dp)\n",
    "    return max(dp)\n",
    "        \n",
    "robber(nums)"
   ]
  },
  {
   "cell_type": "code",
   "execution_count": 57,
   "id": "738226ea",
   "metadata": {},
   "outputs": [
    {
     "data": {
      "text/plain": [
       "[2, 1, 1, 2]"
      ]
     },
     "execution_count": 57,
     "metadata": {},
     "output_type": "execute_result"
    }
   ],
   "source": [
    "m = [2,1,1,2]\n",
    "m[]"
   ]
  },
  {
   "cell_type": "code",
   "execution_count": null,
   "id": "e209f052",
   "metadata": {},
   "outputs": [],
   "source": []
  }
 ],
 "metadata": {
  "kernelspec": {
   "display_name": "Python 3 (ipykernel)",
   "language": "python",
   "name": "python3"
  },
  "language_info": {
   "codemirror_mode": {
    "name": "ipython",
    "version": 3
   },
   "file_extension": ".py",
   "mimetype": "text/x-python",
   "name": "python",
   "nbconvert_exporter": "python",
   "pygments_lexer": "ipython3",
   "version": "3.10.4"
  }
 },
 "nbformat": 4,
 "nbformat_minor": 5
}
